{
 "cells": [
  {
   "cell_type": "markdown",
   "metadata": {},
   "source": [
    "# Environment\n",
    "\n",
    "#### - Tensorflow 2.0.0 beta1\n",
    "#### - python3.7"
   ]
  },
  {
   "cell_type": "markdown",
   "metadata": {},
   "source": [
    "## 載入套件"
   ]
  },
  {
   "cell_type": "code",
   "execution_count": 178,
   "metadata": {},
   "outputs": [],
   "source": [
    "import os\n",
    "import time\n",
    "import numpy as np\n",
    "import matplotlib as mpl\n",
    "import matplotlib.pyplot as plt\n",
    "from pprint import pprint\n",
    "from IPython.display import clear_output\n",
    "from tqdm import tqdm_notebook as tqdm"
   ]
  },
  {
   "cell_type": "markdown",
   "metadata": {},
   "source": [
    "## 載入Tensorflow datasets套件"
   ]
  },
  {
   "cell_type": "code",
   "execution_count": 179,
   "metadata": {},
   "outputs": [
    {
     "name": "stdout",
     "output_type": "stream",
     "text": [
      "2.0.0-beta1\n"
     ]
    }
   ],
   "source": [
    "import tensorflow as tf\n",
    "import tensorflow_datasets as tfds\n",
    "print(tf.__version__)"
   ]
  },
  {
   "cell_type": "markdown",
   "metadata": {},
   "source": [
    "## 建立資料夾路徑\n",
    "\n",
    "`vocab_file`: 儲存中英文字典(vocabulary)路徑\n",
    "\n",
    "`checkpoint`: 儲存模型路徑\n",
    "\n",
    "`log_dir`: 記錄實驗結果\n",
    "\n",
    "`download_dir`: 使用`wmt19`機器翻譯競賽的資料集，資料儲存路徑"
   ]
  },
  {
   "cell_type": "code",
   "execution_count": 298,
   "metadata": {},
   "outputs": [],
   "source": [
    "output_dir = \"nmt\"\n",
    "en_vocab_file = os.path.join(output_dir, \"en_vocab\")\n",
    "zh_vocab_file = os.path.join(output_dir, \"zh_vocab\")\n",
    "checkpoint_path = os.path.join(output_dir, \"checkpoints\")\n",
    "log_dir = os.path.join(output_dir, 'logs')\n",
    "download_dir = \"tensorflow-datasets/downloads\"\n",
    "\n",
    "if not os.path.exists(output_dir):\n",
    "    os.makedirs(output_dir)"
   ]
  },
  {
   "cell_type": "markdown",
   "metadata": {},
   "source": [
    "## 查看wmt19 中英文對照資料集\n",
    "\n",
    "* `newscommentary_v14`: 新聞評論\n",
    "* `wikititles_v1`: wiki標題\n",
    "* `uncorpus_v1`: 聯合國數據"
   ]
  },
  {
   "cell_type": "code",
   "execution_count": 299,
   "metadata": {},
   "outputs": [
    {
     "name": "stdout",
     "output_type": "stream",
     "text": [
      "{NamedSplit('train'): ['newscommentary_v14',\n",
      "                       'wikititles_v1',\n",
      "                       'uncorpus_v1',\n",
      "                       'casia2015',\n",
      "                       'casict2011',\n",
      "                       'casict2015',\n",
      "                       'datum2015',\n",
      "                       'datum2017',\n",
      "                       'neu2017'],\n",
      " NamedSplit('validation'): ['newstest2018']}\n"
     ]
    }
   ],
   "source": [
    "tmp_builder = tfds.builder(\"wmt19_translate/zh-en\")\n",
    "pprint(tmp_builder.subsets)"
   ]
  },
  {
   "cell_type": "markdown",
   "metadata": {},
   "source": [
    "## 透過`tf.DatasetBuilder`下載資料集\n",
    "\n",
    "下載中英文的新聞評論資料集，會在`download_dir`下產生資料集，下次再執行就不需要使用`download_and_prepare`。\n",
    "\n",
    "`builder.info`顯示資料集細節"
   ]
  },
  {
   "cell_type": "code",
   "execution_count": 300,
   "metadata": {},
   "outputs": [
    {
     "name": "stderr",
     "output_type": "stream",
     "text": [
      "W0817 16:27:15.906445 140702702389056 dataset_builder.py:689] Using custom data configuration zh-en\n"
     ]
    }
   ],
   "source": [
    "config = tfds.translate.wmt.WmtConfig(\n",
    "  version=tfds.core.Version('0.0.3', experiments={tfds.core.Experiment.S3: False}),\n",
    "  language_pair=(\"zh\", \"en\"),\n",
    "  subsets={\n",
    "    tfds.Split.TRAIN: [\"newscommentary_v14\"]\n",
    "  }\n",
    ")\n",
    "builder = tfds.builder(\"wmt_translate\", config=config)\n",
    "# builder.download_and_prepare(download_dir=download_dir)\n",
    "# clear_output()"
   ]
  },
  {
   "cell_type": "code",
   "execution_count": 301,
   "metadata": {},
   "outputs": [
    {
     "data": {
      "text/plain": [
       "tfds.core.DatasetInfo(\n",
       "    name='wmt_translate',\n",
       "    version=0.0.3,\n",
       "    description='Translate dataset based on the data from statmt.org.\n",
       "\n",
       "Versions exists for the different years using a combination of multiple data\n",
       "sources. The base `wmt_translate` allows you to create your own config to choose\n",
       "your own data/language pair by creating a custom `tfds.translate.wmt.WmtConfig`.\n",
       "\n",
       "```\n",
       "config = tfds.translate.wmt.WmtConfig(\n",
       "    version=\"0.0.1\",\n",
       "    language_pair=(\"fr\", \"de\"),\n",
       "    subsets={\n",
       "        tfds.Split.TRAIN: [\"commoncrawl_frde\"],\n",
       "        tfds.Split.VALIDATION: [\"euelections_dev2019\"],\n",
       "    },\n",
       ")\n",
       "builder = tfds.builder(\"wmt_translate\", config=config)\n",
       "```\n",
       "\n",
       "',\n",
       "    urls=['http://www.statmt.org'],\n",
       "    features=Translation({\n",
       "        'en': Text(shape=(), dtype=tf.string),\n",
       "        'zh': Text(shape=(), dtype=tf.string),\n",
       "    }),\n",
       "    total_num_examples=311556,\n",
       "    splits={\n",
       "        'train': 311556,\n",
       "    },\n",
       "    supervised_keys=('zh', 'en'),\n",
       "    citation=\"\"\"\"\"\",\n",
       "    redistribution_info=,\n",
       ")"
      ]
     },
     "execution_count": 301,
     "metadata": {},
     "output_type": "execute_result"
    }
   ],
   "source": [
    "builder.info"
   ]
  },
  {
   "cell_type": "markdown",
   "metadata": {},
   "source": [
    "## 切割資料集\n",
    "30%訓練集，1%測試集，其餘丟掉"
   ]
  },
  {
   "cell_type": "code",
   "execution_count": 302,
   "metadata": {},
   "outputs": [
    {
     "data": {
      "text/plain": [
       "(NamedSplit('train')(tfds.percent[0:30]),\n",
       " NamedSplit('train')(tfds.percent[30:31]),\n",
       " NamedSplit('train')(tfds.percent[31:100]))"
      ]
     },
     "execution_count": 302,
     "metadata": {},
     "output_type": "execute_result"
    }
   ],
   "source": [
    "train_perc = 30\n",
    "val_prec = 1\n",
    "drop_prec = 100 - train_perc - val_prec\n",
    "\n",
    "split = tfds.Split.TRAIN.subsplit([train_perc, val_prec, drop_prec])\n",
    "split"
   ]
  },
  {
   "cell_type": "markdown",
   "metadata": {},
   "source": [
    "## 透過`tf.DatasetBuilder`載入資料\n",
    "\n",
    "`assert`檢查型態"
   ]
  },
  {
   "cell_type": "code",
   "execution_count": 303,
   "metadata": {},
   "outputs": [],
   "source": [
    "examples = builder.as_dataset(split=split, as_supervised=True)\n",
    "train_examples, val_examples, _ = examples\n",
    "\n",
    "assert isinstance(train_examples, tf.data.Dataset)\n",
    "assert isinstance(val_examples, tf.data.Dataset)"
   ]
  },
  {
   "cell_type": "markdown",
   "metadata": {},
   "source": [
    "# 顯示前10筆\n",
    "\n",
    "因為原始`train_examples.take`原始是`tf.tensor` + `unicode`，透過`numpy()`轉字串，再透過`decode`轉`utf-8`\n",
    "\n",
    "`take`每筆資料都是一個句子的中英對照"
   ]
  },
  {
   "cell_type": "code",
   "execution_count": 304,
   "metadata": {},
   "outputs": [
    {
     "name": "stdout",
     "output_type": "stream",
     "text": [
      "Making Do With More\n",
      "多劳应多得\n",
      "----------\n",
      "If the Putins, Erdoğans, and Orbáns of the world want to continue to benefit economically from the open international system, they cannot simply make up their own rules.\n",
      "如果普京、埃尔多安和欧尔班希望继续享有开放国际体系提供的经济利益，就不能简单地制定自己的规则。\n",
      "----------\n",
      "This ceiling can be raised only in a deep depression or other exceptional circumstances, allowing for counter-cyclical policy so long as it is agreed that the additional deficit is cyclical, rather than structural.\n",
      "只有在发生深度萧条或其他反常事件时，这一上限才能做出调整，以便让反周期政策实施足够的长度，使人们一致认为增加的赤字是周期性的，而不是结构性的。\n",
      "----------\n",
      "Fascist and communist regimes of the past, which followed a similar instrumentalist approach to democracy, come to mind here.\n",
      "在此我们想起了过去的法西斯主义和共产主义。 它们都相似地将民主作为实现其目的的工具。\n",
      "----------\n",
      "For nearly 70 years since then, the peninsula has been divided, and now it may be the world’s most dangerous flashpoint.\n",
      "此后近70年来，朝鲜半岛一直处于分裂状态，如今它可能是全世界最危险的爆点。\n",
      "----------\n",
      "The eurozone’s collapse (and, for all practical purposes, that of the EU itself) forces a major realignment of European politics.\n",
      "欧元区的瓦解强迫欧洲政治进行一次重大改组。\n",
      "----------\n",
      "With energy and enthusiasm, Burden turned that operation into a thriving health (not health-care) agency that covers three cities and about 300,000 people on the western edge of Los Angeles.\n",
      "在能量与激情的推动下，波顿将BCHD打造成了欣欣向荣的健康（而非医疗）机构，其服务范围覆盖了洛杉矶西侧三座城市的30万人。\n",
      "----------\n",
      "The result could be a world of fragmented blocs – an outcome that would undermine not only global prosperity, but also cooperation on shared challenges.\n",
      "其结果可能是一个四分五裂的世界 — — 这一结果不但会破坏全球繁荣，也会破坏面对共同挑战的合作。\n",
      "----------\n",
      "Among the questions being asked by NGOs, the UN, and national donors is how to prevent the recurrence of past mistakes.\n",
      "现在NGO们、联合国和捐助国们问得最多的一个问题就是如何避免再犯过去的错误。\n",
      "----------\n",
      "Managing the rise of NCDs will require long-term thinking, and government leaders will have to make investments that might pay off only after they are no longer in office.\n",
      "管理NCD的增加需要长期思维，政府领导人必须进行要在他们离任多年后才能收回成本的投资。\n",
      "----------\n"
     ]
    }
   ],
   "source": [
    "sample_examples = []\n",
    "num_samples = 10\n",
    "\n",
    "for en_t, zh_t in train_examples.take(num_samples):\n",
    "    en = en_t.numpy().decode(\"utf-8\")\n",
    "    zh = zh_t.numpy().decode(\"utf-8\")\n",
    "\n",
    "    print(en)\n",
    "    print(zh)\n",
    "    print('-' * 10)\n",
    "\n",
    "      # 之後用來簡單評估模型的訓練情況\n",
    "    sample_examples.append((en, zh))"
   ]
  },
  {
   "cell_type": "markdown",
   "metadata": {},
   "source": [
    "## 使用`tfds.features.text.SubwordTextEncoder`載入與建立字典\n",
    "\n",
    "* `.load_from_file`: 從`.subwords`檔案讀取字典\n",
    "* `.build_from_corpus`: 建立`.subwords`字典\n",
    "\n",
    "### 英文字典\n",
    "\n",
    "Vocabulary大小為$8132$"
   ]
  },
  {
   "cell_type": "code",
   "execution_count": 305,
   "metadata": {},
   "outputs": [
    {
     "name": "stdout",
     "output_type": "stream",
     "text": [
      "建立字典: nmt/en_vocab\n",
      "CPU times: user 1min 38s, sys: 7.3 s, total: 1min 45s\n",
      "Wall time: 1min 12s\n"
     ]
    }
   ],
   "source": [
    "%%time\n",
    "try: \n",
    "    \"\"\"\n",
    "    嘗試讀取字典\n",
    "    \"\"\"\n",
    "    subword_encoder_en = tfds.features.text.SubwordTextEncoder.load_from_file(en_vocab_file) \n",
    "    print('載入英文字典: %s' % en_vocab_file)\n",
    "except: \n",
    "    \"\"\"\n",
    "    若沒有字典則建立字典\n",
    "    (en.numpy() for en, _ in train_examples): 轉字串型態\n",
    "    target_vocab_size :字典大小\n",
    "    \"\"\"\n",
    "    print('建立字典: %s' % en_vocab_file)\n",
    "    subword_encoder_en = tfds.features.text.SubwordTextEncoder.build_from_corpus(\n",
    "        (en.numpy() for en, _ in train_examples),target_vocab_size = 2**13)\n",
    "    subword_encoder_en.save_to_file(en_vocab_file)"
   ]
  },
  {
   "cell_type": "code",
   "execution_count": 306,
   "metadata": {},
   "outputs": [
    {
     "name": "stdout",
     "output_type": "stream",
     "text": [
      "英文字典大小: 8132\n",
      "英文字典前10個字: [', ', 'the_', 'to_', 'of_', 'and_', 's_', 'in_', 'a_', 'that_', 'is_']\n"
     ]
    }
   ],
   "source": [
    "print('英文字典大小: %d' % subword_encoder_en.vocab_size)\n",
    "print('英文字典前10個字:',subword_encoder_en.subwords[:10])"
   ]
  },
  {
   "cell_type": "markdown",
   "metadata": {},
   "source": [
    "#### 使用字典進行encode、decode\n",
    "\n",
    "* `.encode`:編碼 (字 -> index)\n",
    "* `.decode`:解碼 (index -> 字)"
   ]
  },
  {
   "cell_type": "code",
   "execution_count": 307,
   "metadata": {},
   "outputs": [
    {
     "data": {
      "text/plain": [
       "[2934, 457, 10, 2728, 138, 2281, 7922]"
      ]
     },
     "execution_count": 307,
     "metadata": {},
     "output_type": "execute_result"
    }
   ],
   "source": [
    "sample_string = 'Transformer is awesome.'\n",
    "indices = subword_encoder_en.encode(sample_string)\n",
    "indices"
   ]
  },
  {
   "cell_type": "code",
   "execution_count": 308,
   "metadata": {},
   "outputs": [
    {
     "name": "stdout",
     "output_type": "stream",
     "text": [
      "Index     Subword\n",
      " 2934     Trans\n",
      "  457     former \n",
      "   10     is \n",
      " 2728     aw\n",
      "  138     es\n",
      " 2281     ome\n",
      " 7922     .\n"
     ]
    }
   ],
   "source": [
    "print('{0:10}{1:6}'.format('Index','Subword'))\n",
    "for idx in indices:\n",
    "    subword = subword_encoder_en.decode([idx])\n",
    "    print('{0:5}{1:6}'.format(idx,' '*5 + subword))"
   ]
  },
  {
   "cell_type": "markdown",
   "metadata": {},
   "source": [
    "### 中文字典\n",
    "`max_subword_length=1`: 為了降低字典大小，以character為單位進行中文斷詞，原始預設是以詞為單位\n",
    "\n",
    "Vocabulary大小為$4389$"
   ]
  },
  {
   "cell_type": "code",
   "execution_count": 309,
   "metadata": {},
   "outputs": [
    {
     "name": "stdout",
     "output_type": "stream",
     "text": [
      "建立字典: nmt/zh_vocab\n",
      "CPU times: user 9min 21s, sys: 7.22 s, total: 9min 29s\n",
      "Wall time: 8min 55s\n"
     ]
    }
   ],
   "source": [
    "%%time\n",
    "try:\n",
    "    subword_encoder_zh = tfds.features.text.SubwordTextEncoder.load_from_file(zh_vocab_file)\n",
    "    print('載入中文字典: %s' % zh_vocab_file)\n",
    "except:\n",
    "    print('建立字典: %s' % zh_vocab_file)\n",
    "    subword_encoder_zh = tfds.features.text.SubwordTextEncoder.build_from_corpus(\n",
    "        (zh.numpy() for _, zh in train_examples),\n",
    "        target_vocab_size = 2**13,\n",
    "        max_subword_length = 1)\n",
    "    subword_encoder_zh.save_to_file(zh_vocab_file)"
   ]
  },
  {
   "cell_type": "code",
   "execution_count": 310,
   "metadata": {},
   "outputs": [
    {
     "name": "stdout",
     "output_type": "stream",
     "text": [
      "中文字典大小: 4389\n",
      "中文字典前10個字: ['的', '，', '。', '国', '在', '是', '一', '和', '不', '这']\n"
     ]
    }
   ],
   "source": [
    "print('中文字典大小: %d' % subword_encoder_zh.vocab_size)\n",
    "print('中文字典前10個字: %s' % subword_encoder_zh.subwords[:10])"
   ]
  },
  {
   "cell_type": "markdown",
   "metadata": {},
   "source": [
    "#### 使用字典進行encode、decode\n",
    "\n",
    "* `.encode`:編碼 (字 -> index)\n",
    "* `.decode`:解碼 (index -> 字)"
   ]
  },
  {
   "cell_type": "code",
   "execution_count": 311,
   "metadata": {},
   "outputs": [
    {
     "data": {
      "text/plain": [
       "[49, 564, 114, 49, 80]"
      ]
     },
     "execution_count": 311,
     "metadata": {},
     "output_type": "execute_result"
    }
   ],
   "source": [
    "sample_string = '多劳应多得'\n",
    "indices = subword_encoder_zh.encode(sample_string)\n",
    "indices"
   ]
  },
  {
   "cell_type": "code",
   "execution_count": 312,
   "metadata": {},
   "outputs": [
    {
     "name": "stdout",
     "output_type": "stream",
     "text": [
      "Index     Subword\n",
      "   49     多\n",
      "  564     劳\n",
      "  114     应\n",
      "   49     多\n",
      "   80     得\n"
     ]
    }
   ],
   "source": [
    "print('{0:10}{1:6}'.format('Index','Subword'))\n",
    "for idx in indices:\n",
    "    subword = subword_encoder_zh.decode([idx])\n",
    "    print('{0:5}{1:6}'.format(idx,' '*5 + subword))"
   ]
  },
  {
   "cell_type": "code",
   "execution_count": 313,
   "metadata": {},
   "outputs": [
    {
     "data": {
      "text/plain": [
       "(<tf.Tensor: id=17925348, shape=(), dtype=string, numpy=b'Making Do With More'>,\n",
       " <tf.Tensor: id=17925349, shape=(), dtype=string, numpy=b'\\xe5\\xa4\\x9a\\xe5\\x8a\\xb3\\xe5\\xba\\x94\\xe5\\xa4\\x9a\\xe5\\xbe\\x97'>)"
      ]
     },
     "execution_count": 313,
     "metadata": {},
     "output_type": "execute_result"
    }
   ],
   "source": [
    "next(iter(train_examples))"
   ]
  },
  {
   "cell_type": "markdown",
   "metadata": {},
   "source": [
    "## 添加`<BOS>`,`<EOS>`在句子頭尾\n",
    "\n",
    "`.vocab_size`視為`<BOS>`, `.vocab_size+1`視為`<EOS>`\n",
    "\n",
    "之後所有的訓練資料都需要通過`train_examples`產生，然後再透過`encode`轉成index"
   ]
  },
  {
   "cell_type": "code",
   "execution_count": 314,
   "metadata": {},
   "outputs": [],
   "source": [
    "def encode(en_t, zh_t):\n",
    "    \n",
    "    en_indics = [subword_encoder_en.vocab_size] + subword_encoder_en.encode(en_t.numpy()) + [subword_encoder_en.vocab_size + 1]\n",
    "    zh_indics = [subword_encoder_zh.vocab_size] + subword_encoder_zh.encode(zh_t.numpy()) + [subword_encoder_zh.vocab_size + 1]\n",
    "    \n",
    "    return en_indics, zh_indics"
   ]
  },
  {
   "cell_type": "code",
   "execution_count": 315,
   "metadata": {},
   "outputs": [
    {
     "name": "stdout",
     "output_type": "stream",
     "text": [
      "英文<BOS>: 8132\n",
      "英文<EOS>: 8133\n",
      "中文<BOS>: 4389\n",
      "中文<EOS>: 4390\n",
      "--------------------\n",
      "Before encode: (two tensor): \n",
      "(<tf.Tensor: id=17925357, shape=(), dtype=string, numpy=b'Making Do With More'>, <tf.Tensor: id=17925358, shape=(), dtype=string, numpy=b'\\xe5\\xa4\\x9a\\xe5\\x8a\\xb3\\xe5\\xba\\x94\\xe5\\xa4\\x9a\\xe5\\xbe\\x97'>)\n",
      "\n",
      "After encode: (two array): \n",
      "([8132, 5163, 17, 710, 7908, 300, 1646, 7977, 8133], [4389, 49, 564, 114, 49, 80, 4390])\n"
     ]
    }
   ],
   "source": [
    "en_t, zh_t = next(iter(train_examples))\n",
    "en_indics, zh_indics = encode(en_t, zh_t)\n",
    "\n",
    "print('英文<BOS>: %d' % subword_encoder_en.vocab_size)\n",
    "print('英文<EOS>: %d' % (subword_encoder_en.vocab_size + 1))\n",
    "print('中文<BOS>: %d' % subword_encoder_zh.vocab_size)\n",
    "print('中文<EOS>: %d' % (subword_encoder_zh.vocab_size + 1))\n",
    "\n",
    "print('-' * 20)\n",
    "print('Before encode: (two tensor): ')\n",
    "print((en_t, zh_t))\n",
    "print()\n",
    "print('After encode: (two array): ')\n",
    "print((en_indics, zh_indics))"
   ]
  },
  {
   "cell_type": "markdown",
   "metadata": {},
   "source": [
    "## 將`encode`函數的輸出型態轉為計算圖的`Tensor`\n",
    "\n",
    "如果直接將`train_examples`接上`encode`，會發生`'Tensor' object has no attribute 'numpy'`\n",
    "\n",
    "這是因為`encode`的輸出不是`Eager Tensor`型態，需要透過`tf.py_function`轉成`Eager Tensor`"
   ]
  },
  {
   "cell_type": "code",
   "execution_count": 316,
   "metadata": {},
   "outputs": [
    {
     "name": "stderr",
     "output_type": "stream",
     "text": [
      "Traceback (most recent call last):\n",
      "  File \"<ipython-input-316-dcc6eba68460>\", line 4, in <module>\n",
      "    train_examples.map(encode)\n",
      "  File \"/opt/conda/lib/python3.7/site-packages/tensorflow/python/data/ops/dataset_ops.py\", line 1143, in map\n",
      "    return MapDataset(self, map_func, preserve_cardinality=True)\n",
      "  File \"/opt/conda/lib/python3.7/site-packages/tensorflow/python/data/ops/dataset_ops.py\", line 3226, in __init__\n",
      "    use_legacy_function=use_legacy_function)\n",
      "  File \"/opt/conda/lib/python3.7/site-packages/tensorflow/python/data/ops/dataset_ops.py\", line 2591, in __init__\n",
      "    self._function = wrapper_fn._get_concrete_function_internal()\n",
      "  File \"/opt/conda/lib/python3.7/site-packages/tensorflow/python/eager/function.py\", line 1366, in _get_concrete_function_internal\n",
      "    *args, **kwargs)\n",
      "  File \"/opt/conda/lib/python3.7/site-packages/tensorflow/python/eager/function.py\", line 1360, in _get_concrete_function_internal_garbage_collected\n",
      "    graph_function, _, _ = self._maybe_define_function(args, kwargs)\n",
      "  File \"/opt/conda/lib/python3.7/site-packages/tensorflow/python/eager/function.py\", line 1648, in _maybe_define_function\n",
      "    graph_function = self._create_graph_function(args, kwargs)\n",
      "  File \"/opt/conda/lib/python3.7/site-packages/tensorflow/python/eager/function.py\", line 1541, in _create_graph_function\n",
      "    capture_by_value=self._capture_by_value),\n",
      "  File \"/opt/conda/lib/python3.7/site-packages/tensorflow/python/framework/func_graph.py\", line 716, in func_graph_from_py_func\n",
      "    func_outputs = python_func(*func_args, **func_kwargs)\n",
      "  File \"/opt/conda/lib/python3.7/site-packages/tensorflow/python/data/ops/dataset_ops.py\", line 2585, in wrapper_fn\n",
      "    ret = _wrapper_helper(*args)\n",
      "  File \"/opt/conda/lib/python3.7/site-packages/tensorflow/python/data/ops/dataset_ops.py\", line 2530, in _wrapper_helper\n",
      "    ret = func(*nested_args)\n",
      "  File \"<ipython-input-314-ecdd2b1163a2>\", line 3, in encode\n",
      "    en_indics = [subword_encoder_en.vocab_size] + subword_encoder_en.encode(en_t.numpy()) + [subword_encoder_en.vocab_size + 1]\n",
      "AttributeError: 'Tensor' object has no attribute 'numpy'\n"
     ]
    }
   ],
   "source": [
    "import traceback\n",
    "\n",
    "try:\n",
    "    train_examples.map(encode)\n",
    "except AttributeError:\n",
    "    traceback.print_exc()"
   ]
  },
  {
   "cell_type": "markdown",
   "metadata": {},
   "source": [
    "### `tf.py_function`\n",
    "\n",
    "`tf.py_function`能夠將函數輸出轉換成`Eager Tensor`"
   ]
  },
  {
   "cell_type": "code",
   "execution_count": 317,
   "metadata": {},
   "outputs": [
    {
     "name": "stdout",
     "output_type": "stream",
     "text": [
      "After tf_encode: (two tensor)\n",
      "tf.Tensor([8132 5163   17  710 7908  300 1646 7977 8133], shape=(9,), dtype=int64)\n",
      "tf.Tensor([4389   49  564  114   49   80 4390], shape=(7,), dtype=int64)\n"
     ]
    }
   ],
   "source": [
    "def tf_encode(en_t, zh_t):\n",
    "    \"\"\"\n",
    "    從encode輸出的en_t及zh_t都不是Eager Tensor\n",
    "    需要透過 tf.py_function 轉為Eager Tensor\n",
    "    \"\"\"\n",
    "    return tf.py_function(encode, [en_t, zh_t], [tf.int64, tf.int64])\n",
    "\n",
    "tmp_dataset = train_examples.map(tf_encode)\n",
    "en_indices, zh_indices = next(iter(tmp_dataset))\n",
    "\n",
    "print('After tf_encode: (two tensor)')\n",
    "print(en_indices)\n",
    "print(zh_indices)"
   ]
  },
  {
   "cell_type": "markdown",
   "metadata": {},
   "source": [
    "### 限制句子長度\n",
    "\n",
    "為了加快訓練速度，使用`tf.logical`限制中英文句子長度，並使用`.filter`過濾"
   ]
  },
  {
   "cell_type": "code",
   "execution_count": 318,
   "metadata": {},
   "outputs": [],
   "source": [
    "max_length = 50\n",
    "def filter_max_length(en_t, zh_t, max_length = max_length):\n",
    "    \n",
    "    return tf.logical_and(tf.size(en_t) <= max_length,\n",
    "                          tf.size(zh_t) <= max_length)\n",
    "\n",
    "tmp_dataset = tmp_dataset.filter(filter_max_length)"
   ]
  },
  {
   "cell_type": "markdown",
   "metadata": {},
   "source": [
    "### Padding\n",
    "指定batch_size以及padding"
   ]
  },
  {
   "cell_type": "code",
   "execution_count": 319,
   "metadata": {},
   "outputs": [
    {
     "name": "stdout",
     "output_type": "stream",
     "text": [
      "英文batch: \n",
      "tf.Tensor(\n",
      "[[8132 5163   17 ...    0    0    0]\n",
      " [8132  163    2 ...    0    0    0]\n",
      " [8132 1691 4113 ...    0    0    0]\n",
      " ...\n",
      " [8132  131 3355 ...    0    0    0]\n",
      " [8132 1372    1 ...    0    0    0]\n",
      " [8132   18  973 ...    0    0    0]], shape=(64, 49), dtype=int64)\n",
      "---------------\n",
      "中文batch: \n",
      "tf.Tensor(\n",
      "[[4389   49  564 ...    0    0    0]\n",
      " [4389   44  119 ...    3 4390    0]\n",
      " [4389    5   78 ...    0    0    0]\n",
      " ...\n",
      " [4389    7   30 ...    0    0    0]\n",
      " [4389  139  174 ...    0    0    0]\n",
      " [4389  173    4 ...    0    0    0]], shape=(64, 50), dtype=int64)\n"
     ]
    }
   ],
   "source": [
    "batch_size = 64\n",
    "tmp_dataset = tmp_dataset.padded_batch(batch_size=batch_size, padded_shapes=([-1], [-1]))\n",
    "\n",
    "en_batch, zh_batch = next(iter(tmp_dataset))\n",
    "\n",
    "print('英文batch: ')\n",
    "print(en_batch)\n",
    "print('-' * 15)\n",
    "print('中文batch: ')\n",
    "print(zh_batch)"
   ]
  },
  {
   "cell_type": "markdown",
   "metadata": {},
   "source": [
    "### 將`train_examples`與`val_examples`做同樣處理\n",
    "\n",
    "* `train`:\n",
    "\n",
    " - `map(tf_encode)`: 將字串轉成index\n",
    " - `filter(filter_max_length)`:過濾長度\n",
    " - `cache()`: cache the dataset to memory to get a speedup while reading from it.\n",
    " - `shuffle(buffer_size)`: 打亂buffer裡的資料，確保隨機\n",
    " - `padded_batch(batch_size, padded_shapes=([-1],[-1]))`: padding長度\n",
    " - `prefetch(tf.data.experimental.AUTOUNE)`: 加速\n",
    " \n",
    "\n",
    "Tensor-core pipeline: https://www.tensorflow.org/guide/performance/datasets?hl=zh_cn"
   ]
  },
  {
   "cell_type": "code",
   "execution_count": 320,
   "metadata": {},
   "outputs": [],
   "source": [
    "max_length = 50\n",
    "batch_size = 128\n",
    "buffer_size = 15000\n",
    "\n",
    "train_dataset = (train_examples\n",
    "                 .map(tf_encode)\n",
    "                 .filter(filter_max_length)\n",
    "                 .cache()\n",
    "                 .shuffle(buffer_size)\n",
    "                 .padded_batch(batch_size, padded_shapes=([-1],[-1]))\n",
    "                 .prefetch(tf.data.experimental.AUTOTUNE))\n",
    "\n",
    "val_dataset = (val_examples\n",
    "               .map(tf_encode)\n",
    "               .filter(filter_max_length)\n",
    "               .padded_batch(batch_size, padded_shapes=([-1], [-1])))"
   ]
  },
  {
   "cell_type": "code",
   "execution_count": 321,
   "metadata": {},
   "outputs": [
    {
     "name": "stdout",
     "output_type": "stream",
     "text": [
      "英文batch tensor: \n",
      "tf.Tensor(\n",
      "[[8132 1993 5795 ...    0    0    0]\n",
      " [8132  417    1 ...    0    0    0]\n",
      " [8132 6226   50 ...    0    0    0]\n",
      " ...\n",
      " [8132 1438   35 ...    0    0    0]\n",
      " [8132 2093   38 ...    0    0    0]\n",
      " [8132  292   11 ...    0    0    0]], shape=(128, 50), dtype=int64)\n",
      "--------------------\n",
      "中文batch tensor: \n",
      "tf.Tensor(\n",
      "[[4389  348  546 ...    0    0    0]\n",
      " [4389   29  302 ...    0    0    0]\n",
      " [4389  449  514 ...    0    0    0]\n",
      " ...\n",
      " [4389  120  238 ...    0    0    0]\n",
      " [4389    5   10 ...    0    0    0]\n",
      " [4389  120  238 ...    0    0    0]], shape=(128, 50), dtype=int64)\n"
     ]
    }
   ],
   "source": [
    "en_batch, zh_batch = next(iter(train_dataset))\n",
    "\n",
    "print('英文batch tensor: ')\n",
    "print(en_batch)\n",
    "print('-' * 20)\n",
    "print('中文batch tensor: ')\n",
    "print(zh_batch)"
   ]
  },
  {
   "cell_type": "markdown",
   "metadata": {},
   "source": [
    "### 假設有新資料時的處理方式\n",
    "\n",
    "1. `map(tf_encode)`: 轉成index\n",
    "2. `filter(filter_max_length)`: 過濾最大長度\n",
    "3. `padded_batch()`: padding"
   ]
  },
  {
   "cell_type": "code",
   "execution_count": 322,
   "metadata": {},
   "outputs": [
    {
     "name": "stdout",
     "output_type": "stream",
     "text": [
      "tf.Tensor(\n",
      "[[8132  103   10 1036 7922 8133    0    0]\n",
      " [8132   18 3992 5599   12 2477 7922 8133]], shape=(2, 8), dtype=int64)\n",
      "---------------\n",
      "tf.Tensor(\n",
      "[[4389   10  239   82   28    3 4390    0    0    0]\n",
      " [4389  166  463  417  190   14    7  553    3 4390]], shape=(2, 10), dtype=int64)\n"
     ]
    }
   ],
   "source": [
    "demo_examples = [\n",
    "    (\"It is important.\", \"这很重要。\"),\n",
    "    (\"The numbers speak for themselves.\", \"数字证明了一切。\"),\n",
    "]\n",
    "\n",
    "batch_size = 2\n",
    "demo_examples = tf.data.Dataset.from_tensor_slices((\n",
    "    [en for en, _ in demo_examples], [zh for _, zh in demo_examples]\n",
    "))\n",
    "\n",
    "demo_examples = demo_examples.map(tf_encode).filter(filter_max_length).padded_batch(batch_size, padded_shapes=([-1],[-1]))\n",
    "\n",
    "en_sample, zh_sample = next(iter(demo_examples))\n",
    "print(en_sample)\n",
    "print('-' * 15)\n",
    "print(zh_sample)"
   ]
  },
  {
   "cell_type": "markdown",
   "metadata": {},
   "source": [
    "# Transformer\n",
    "\n",
    "<img src=\"img/1.png\" alt=\"Drawing\" style=\"width: 400px;\"/>\n",
    "\n",
    "\n",
    "## Positional Encoding\n",
    "\n",
    "Word Embedding所表達的是所有詞向量之間的相似關係，而Transformer的做法是透過內積解決RNN的長距離依賴問題(long-range dependenices)，但是這樣做卻沒有考慮到句子中的詞先後順序關係，透過Positional Encoding，讓詞向量之間不只因為word embedding語義關係而靠近，也可以因為詞之間的位置相互靠近而靠近。\n",
    "\n",
    "$$\n",
    "PE_{(pos,2i)} = \\sin(pos/10000^{\\frac{2i}{d_{model}}}) \\\\\n",
    "PE_{(pos,2i+1)} = \\cos(pos/10000^{\\frac{2i}{d_{model}}})\n",
    "$$\n",
    "\n",
    "#### 之後可以調整看看三角函數的參數，例如10000 -> 100"
   ]
  },
  {
   "cell_type": "code",
   "execution_count": 323,
   "metadata": {},
   "outputs": [
    {
     "data": {
      "text/plain": [
       "array([[0.00000000e+00, 0.00000000e+00, 0.00000000e+00, ...,\n",
       "        0.00000000e+00, 0.00000000e+00, 0.00000000e+00],\n",
       "       [1.00000000e+00, 1.00000000e+00, 9.64661620e-01, ...,\n",
       "        1.07460783e-04, 1.03663293e-04, 1.03663293e-04],\n",
       "       [2.00000000e+00, 2.00000000e+00, 1.92932324e+00, ...,\n",
       "        2.14921566e-04, 2.07326586e-04, 2.07326586e-04],\n",
       "       ...,\n",
       "       [4.70000000e+01, 4.70000000e+01, 4.53390961e+01, ...,\n",
       "        5.05065679e-03, 4.87217476e-03, 4.87217476e-03],\n",
       "       [4.80000000e+01, 4.80000000e+01, 4.63037578e+01, ...,\n",
       "        5.15811758e-03, 4.97583806e-03, 4.97583806e-03],\n",
       "       [4.90000000e+01, 4.90000000e+01, 4.72684194e+01, ...,\n",
       "        5.26557836e-03, 5.07950135e-03, 5.07950135e-03]])"
      ]
     },
     "execution_count": 323,
     "metadata": {},
     "output_type": "execute_result"
    }
   ],
   "source": [
    "# 先建立角度\n",
    "def get_angles(pos, i, d_model):\n",
    "    angle_rates = 1 / np.power(10000, 2 * (i//2) / np.float32(d_model))\n",
    "    return pos * angle_rates\n",
    "\n",
    "# 生成 2i和 2i+1的角度\n",
    "position = 50\n",
    "d_model = 512\n",
    "pos = np.arange(position)[:, np.newaxis]\n",
    "i = np.arange(d_model)[np.newaxis, :]\n",
    "\n",
    "get_angles(pos, i, d_model) # (50, 512)"
   ]
  },
  {
   "cell_type": "code",
   "execution_count": 324,
   "metadata": {},
   "outputs": [],
   "source": [
    "def positional_encoding(position, d_model):\n",
    "    \"\"\"\n",
    "    奇數sin\n",
    "    偶數cos\n",
    "    \n",
    "          第一個字: [[sin(0),cos(0),sin(1),cos(1),...,sin(d_model-1),cos(d_model)]\n",
    "          第二個字: ,[sin(0),cos(0),sin(1),cos(1),...,sin(d_model-1),cos(d_model)]\n",
    "          第三個字: ,[sin(0),cos(0),sin(1),cos(1),...,sin(d_model-1),cos(d_model)]\n",
    "          ...     \n",
    "    第position個字: ,[sin(0),cos(0),sin(1),cos(1),...,sin(d_model-1),cos(d_model)]]\n",
    "    \n",
    "    return:\n",
    "    (batch_size, position, d_model)\n",
    "    \"\"\"\n",
    "    pos = np.arange(position)[:, np.newaxis] # [[0],[1],[2],...,[pos-1]]\n",
    "    i = np.arange(d_model)[np.newaxis, :] # [[0,1,2,3,...,d_model-1]]\n",
    "    \n",
    "    angle_rads = get_angles(pos, i, d_model) # (position, d_model)\n",
    "    \n",
    "    \n",
    "    angle_rads[:, 0::2] = np.sin(angle_rads[:, 0::2])\n",
    "    angle_rads[:, 1::2] = np.cos(angle_rads[:, 1::2])\n",
    "    \n",
    "    pos_encoding = angle_rads[np.newaxis, ...]\n",
    "    \n",
    "    return tf.cast(pos_encoding, dtype=tf.float32)"
   ]
  },
  {
   "cell_type": "code",
   "execution_count": 325,
   "metadata": {},
   "outputs": [
    {
     "name": "stdout",
     "output_type": "stream",
     "text": [
      "(1, 50, 512)\n"
     ]
    },
    {
     "data": {
      "image/png": "[encoded data removed]",
      "text/plain": [
       "<Figure size 432x288 with 2 Axes>"
      ]
     },
     "metadata": {
      "needs_background": "light"
     },
     "output_type": "display_data"
    }
   ],
   "source": [
    "pos_encoding = positional_encoding(position, d_model)\n",
    "print(pos_encoding.shape)\n",
    "plt.pcolormesh(pos_encoding[0], cmap='RdBu')\n",
    "plt.xlabel('Depth')\n",
    "plt.xlim((0, 512))\n",
    "plt.ylabel('Position')\n",
    "plt.colorbar()\n",
    "plt.show()"
   ]
  },
  {
   "cell_type": "code",
   "execution_count": 326,
   "metadata": {},
   "outputs": [
    {
     "data": {
      "image/png": "[encoded data removed]",
      "text/plain": [
       "<Figure size 432x288 with 1 Axes>"
      ]
     },
     "metadata": {
      "needs_background": "light"
     },
     "output_type": "display_data"
    }
   ],
   "source": [
    "plt.plot(pos_encoding.numpy()[0][0], 'o',alpha = 0.2) # w1\n",
    "plt.plot(pos_encoding.numpy()[0][1], 'o',alpha = 0.2) # w2\n",
    "plt.plot(pos_encoding.numpy()[0][2], 'o',alpha = 0.2) # w3\n",
    "plt.plot(pos_encoding.numpy()[0][3], 'o',alpha = 0.2) # w4\n",
    "plt.show()"
   ]
  },
  {
   "cell_type": "markdown",
   "metadata": {},
   "source": [
    "## Masking\n",
    "在Transformer中有兩個地方需要進行masking，以下兩種masking的方式都是先指定要進行masking的位置，然後將內積過後的attetion matrix進行masking。\n",
    "\n",
    " 1. `Padding_masking`: 句子padding的部分不需要被transformer注意到，透過mask，讓self-attention出來的weight接近0。\n",
    " 2. `Look_head_masking`: Decoder中的masked self attention會使用到，不讓當前的字去注意到之後所有的字，一樣是讓self-attention出來的weight接近0。\n",
    " \n",
    "### Padding masking"
   ]
  },
  {
   "cell_type": "code",
   "execution_count": 327,
   "metadata": {},
   "outputs": [],
   "source": [
    "def create_paddding_mask(seq):\n",
    "    \"\"\"\n",
    "    Input:\n",
    "    在字典中，padding的index為0\n",
    "    \n",
    "    所以當Input遇到0時就將其變為1，之後當成要進行masking的index\n",
    "    \n",
    "    Return:\n",
    "    在中間插上兩個維度是為了後面attention時做broadcasting\n",
    "    \"\"\"\n",
    "    seq = tf.cast(tf.math.equal(seq, 0), tf.float32)\n",
    "    return seq[:, tf.newaxis, tf.newaxis, :]"
   ]
  },
  {
   "cell_type": "code",
   "execution_count": 328,
   "metadata": {},
   "outputs": [
    {
     "name": "stdout",
     "output_type": "stream",
     "text": [
      "tf.Tensor(\n",
      "[[7 6 0 0 1]\n",
      " [1 2 3 0 0]\n",
      " [0 0 0 4 5]], shape=(3, 5), dtype=int32)\n",
      "tf.Tensor(\n",
      "[[[[0. 0. 1. 1. 0.]]]\n",
      "\n",
      "\n",
      " [[[0. 0. 0. 1. 1.]]]\n",
      "\n",
      "\n",
      " [[[1. 1. 1. 0. 0.]]]], shape=(3, 1, 1, 5), dtype=float32)\n"
     ]
    }
   ],
   "source": [
    "x = tf.constant([[7, 6, 0, 0, 1], [1, 2, 3, 0, 0], [0, 0, 0, 4, 5]])\n",
    "print(x)\n",
    "print(create_paddding_mask(x))\n",
    "# 1的位置就是要進行masking的位置"
   ]
  },
  {
   "cell_type": "markdown",
   "metadata": {},
   "source": [
    "### Look ahead masking"
   ]
  },
  {
   "cell_type": "code",
   "execution_count": 329,
   "metadata": {},
   "outputs": [],
   "source": [
    "def create_look_ahead_mask(size):\n",
    "    \"\"\"\n",
    "    Input: 方陣size，以transformer來說就是self-attention的weigh matrix，將上三角進行masking\n",
    "    \n",
    "    tf.linalg.band_part(input, num_lower, num_upper)\n",
    "    num_lower, num_upper: 從主對角線開始決定mask的起點，-1表示保留原值\n",
    "    \"\"\"\n",
    "    mask = 1 - tf.linalg.band_part(tf.ones((size,size)), -1, 0)\n",
    "    return mask"
   ]
  },
  {
   "cell_type": "code",
   "execution_count": 330,
   "metadata": {},
   "outputs": [
    {
     "data": {
      "text/plain": [
       "<tf.Tensor: id=18064658, shape=(3, 3), dtype=float32, numpy=\n",
       "array([[0., 1., 1.],\n",
       "       [0., 0., 1.],\n",
       "       [0., 0., 0.]], dtype=float32)>"
      ]
     },
     "execution_count": 330,
     "metadata": {},
     "output_type": "execute_result"
    }
   ],
   "source": [
    "create_look_ahead_mask(3)"
   ]
  },
  {
   "cell_type": "markdown",
   "metadata": {},
   "source": [
    "### Scaled dot-product attention(self-attention)\n",
    "\n",
    "<img src=\"img/3.png\" alt=\"Drawing\" style=\"width: 200px;\"/>\n",
    "\n",
    "1. Q與K進行矩陣相乘的地方就是實現Self-attention的地方，表示Q中的每個字對於K的每個字的attention。\n",
    "2. 接著進行Scale是為了避免後面通過Softmax之後的attention weight不是1就是0，這樣會造成很小的梯度(hard softmax)。\n",
    "3. 通過Softmax之後就產生attention weight matrix，再乘上V，最後得到Context matrix。\n",
    "\n",
    "$$\n",
    "\\mathrm{Attention}(Q,K,V) = \\mathrm{Softmax}(\\frac{QK^\\top}{\\sqrt{d_k}})V\n",
    "$$"
   ]
  },
  {
   "cell_type": "code",
   "execution_count": 331,
   "metadata": {},
   "outputs": [],
   "source": [
    "def scaled_dot_product_attention(q, k, v, mask):\n",
    "    \"\"\"\n",
    "    Args:\n",
    "        q: query shape == (..., seq_len_q, depth_k)\n",
    "        k: key shape == (..., seq_len_k, depth_k)\n",
    "        v: value shape == (..., seq_len_v, depth_v)\n",
    "        mask: Float tensor with shape broadcastable to (..., seq_len_q, seq_len_k)\n",
    "    \"\"\"\n",
    "    # q,k矩陣相乘\n",
    "    matmul_qk = tf.matmul(q, k, transpose_b=True) # (..., q_dim, k_dim)\n",
    "    \n",
    "    # Scaled\n",
    "    dk = tf.cast(tf.shape(k)[-1], tf.float32)\n",
    "    scaled_attention_logits = matmul_qk / tf.math.sqrt(dk)\n",
    "    \n",
    "    # mask\n",
    "    if mask is not None:\n",
    "        scaled_attention_logits += (mask * -1*9)\n",
    "    # Softmax最後一個維度(k_dim)，表示每個字對於所有字的attention weights    \n",
    "    attention_weights = tf.nn.softmax(scaled_attention_logits, axis = -1) \n",
    "    \n",
    "    output = tf.matmul(attention_weights, v) # (..., q_dim, depth_v)\n",
    "    \n",
    "    return attention_weights, output"
   ]
  },
  {
   "cell_type": "code",
   "execution_count": 332,
   "metadata": {},
   "outputs": [],
   "source": [
    "\"\"\"\n",
    "假設一個字(query)對四個字(key)進行self attention，得到attention weight之後再與value相乘\n",
    "\"\"\"\n",
    "\n",
    "temp_k = tf.constant([[10,0,0],\n",
    "                      [0,10,0],\n",
    "                      [0,0,10],\n",
    "                      [0,0,10]], dtype=tf.float32)  # (4, 3)\n",
    "\n",
    "temp_v = tf.constant([[   1,0],\n",
    "                      [  10,0],\n",
    "                      [ 100,5],\n",
    "                      [1000,6]], dtype=tf.float32)  # (4, 2)\n",
    "temp_q = tf.constant([[0, 10, 0]], dtype=tf.float32) # (1, 3)\n",
    "\n",
    "attention_weights, output = scaled_dot_product_attention(temp_q, temp_k, temp_v, mask=None)"
   ]
  },
  {
   "cell_type": "code",
   "execution_count": 333,
   "metadata": {},
   "outputs": [
    {
     "name": "stdout",
     "output_type": "stream",
     "text": [
      "Attention weights: \n",
      "tf.Tensor([[8.433274e-26 1.000000e+00 8.433274e-26 8.433274e-26]], shape=(1, 4), dtype=float32)\n",
      "\n",
      "Ouptut: \n",
      "tf.Tensor([[1.000000e+01 9.276601e-25]], shape=(1, 2), dtype=float32)\n"
     ]
    }
   ],
   "source": [
    "print('Attention weights: ')\n",
    "print(attention_weights)\n",
    "print()\n",
    "print('Ouptut: ')\n",
    "print(output)"
   ]
  },
  {
   "cell_type": "code",
   "execution_count": 334,
   "metadata": {},
   "outputs": [],
   "source": [
    "\"\"\"\n",
    "假設四個字(query)對四個字(key)進行self attention，然後將上三角形進行mask，得到attention weight之後再與value相乘\n",
    "\n",
    "將右上角mask掉之後觀察attention weights會發現上三角形的weigh趨近於0\n",
    "\"\"\"\n",
    "\n",
    "# 為了方便觀察weight，將temp_q都設為1\n",
    "temp_q = tf.constant([[1, 1, 1], [1, 1, 1], [1, 1, 1], [1, 1, 1]], dtype=tf.float32) # (4, 3)\n",
    "\n",
    "mask = create_look_ahead_mask(temp_q.shape[0])\n",
    "\n",
    "attention_weights, output = scaled_dot_product_attention(temp_q, temp_k, temp_v, mask=mask)"
   ]
  },
  {
   "cell_type": "code",
   "execution_count": 335,
   "metadata": {},
   "outputs": [
    {
     "name": "stdout",
     "output_type": "stream",
     "text": [
      "Attention weights: \n",
      "tf.Tensor(\n",
      "[[9.9962997e-01 1.2336414e-04 1.2336414e-04 1.2336414e-04]\n",
      " [4.9993831e-01 4.9993831e-01 6.1697290e-05 6.1697290e-05]\n",
      " [3.3331960e-01 3.3331960e-01 3.3331960e-01 4.1134906e-05]\n",
      " [2.5000000e-01 2.5000000e-01 2.5000000e-01 2.5000000e-01]], shape=(4, 4), dtype=float32)\n",
      "\n",
      "Ouptut: \n",
      "tf.Tensor(\n",
      "[[1.1365643e+00 1.3570056e-03]\n",
      " [5.5671883e+00 6.7867019e-04]\n",
      " [3.7039608e+01 1.6668448e+00]\n",
      " [2.7775000e+02 2.7500000e+00]], shape=(4, 2), dtype=float32)\n"
     ]
    }
   ],
   "source": [
    "print('Attention weights: ')\n",
    "print(attention_weights)\n",
    "print()\n",
    "print('Ouptut: ')\n",
    "print(output)"
   ]
  },
  {
   "cell_type": "markdown",
   "metadata": {},
   "source": [
    "### Multi-Head Attention\n",
    "\n",
    "<img src=\"img/2.png\" alt=\"Drawing\" style=\"width: 300px;\"/>\n",
    "\n",
    "將`q,k,v`分成num_heads份，各自做self-attention，然後再concat，通過dense輸出，分成num_heads的優點最主要是希望讓每個head各自注意到Sequence中不同的地方"
   ]
  },
  {
   "cell_type": "code",
   "execution_count": 336,
   "metadata": {},
   "outputs": [],
   "source": [
    "class MultiHeadAttention(tf.keras.layers.Layer):\n",
    "\n",
    "    def __init__(self, d_model, num_heads):\n",
    "        super().__init__()\n",
    "        self.num_heads = num_heads\n",
    "        self.d_model = d_model\n",
    "        \n",
    "        # 確保d_model可以被num_heads整除\n",
    "        assert d_model % self.num_heads == 0\n",
    "        \n",
    "        self.depth = d_model // self.num_heads\n",
    "        \n",
    "        self.wq = tf.keras.layers.Dense(d_model)\n",
    "        self.wk = tf.keras.layers.Dense(d_model)\n",
    "        self.wv = tf.keras.layers.Dense(d_model)\n",
    "        \n",
    "        self.dense = tf.keras.layers.Dense(d_model)\n",
    "        \n",
    "    def split_heads(self, x, batch_size):\n",
    "        \"\"\"\n",
    "        將d_model切割成(num_heads, depth)\n",
    "        為了後面做self-attention，transpose成(batch_size, num_heads, seq_len, depth)\n",
    "        \"\"\"\n",
    "        x = tf.reshape(x, (batch_size, -1, self.num_heads, self.depth))\n",
    "        return tf.transpose(x, perm=[0, 2, 1, 3])\n",
    "    \n",
    "    def __call__(self, v, k, q, mask):\n",
    "        batch_size = tf.shape(q)[0]\n",
    "        \n",
    "        q = self.wq(q) # (batch_size, seq_len, d_model) \n",
    "        k = self.wk(k) # (batch_size, seq_len, d_model) \n",
    "        v = self.wv(v) # (batch_size, seq_len, d_model) \n",
    "        \n",
    "        q = self.split_heads(q, batch_size) # (batch_size, num_heads, seq_len_q, depth)\n",
    "        k = self.split_heads(k, batch_size) # (batch_size, num_heads, seq_len_k, depth)\n",
    "        v = self.split_heads(v, batch_size) # (batch_size, num_heads, seq_len_v, depth)\n",
    "        \n",
    "        # attention_weights.shape == (batch_size, num_heads, seq_len_q, seq_len_k)\n",
    "        # scaled_attention.shape == (batch_size, num_heads, seq_len_q, depth)\n",
    "        attention_weights, scaled_attention = scaled_dot_product_attention(q, k, v, mask) \n",
    "        \n",
    "        #為了將num_heads進行concat，transpose成(batch_size, seq_len_q, num_heads, depth)\n",
    "        scaled_attention = tf.transpose(scaled_attention, perm=[0, 2, 1, 3]) \n",
    "        \n",
    "        # 合併後面兩維度 (batch_size, seq_len_q, d_model)\n",
    "        concat_attention = tf.reshape(scaled_attention, (batch_size, -1, self.d_model))\n",
    "        \n",
    "        output = self.dense(concat_attention)\n",
    "        \n",
    "        return output, attention_weights"
   ]
  },
  {
   "cell_type": "code",
   "execution_count": 337,
   "metadata": {},
   "outputs": [],
   "source": [
    "y = tf.random.uniform((1, 60, 512)) # (batch_size, seq_len, d_model)\n",
    "\n",
    "d_model = 512\n",
    "num_heads = 8\n",
    "temp_mha = MultiHeadAttention(d_model, num_heads)\n",
    "output, attention_weights = temp_mha(v=y, k=y, q=y, mask=None)"
   ]
  },
  {
   "cell_type": "code",
   "execution_count": 338,
   "metadata": {},
   "outputs": [
    {
     "name": "stdout",
     "output_type": "stream",
     "text": [
      "output shape (1, 60, 512)\n",
      "attention_weights shape:  (1, 8, 60, 60)\n"
     ]
    }
   ],
   "source": [
    "# 輸出仍然是 (batch_size, seq_len, d_model)\n",
    "print('output shape', output.shape)\n",
    "\n",
    "# 8個heads各自有一個attention weight matrix\n",
    "print('attention_weights shape: ', attention_weights.shape)"
   ]
  },
  {
   "cell_type": "markdown",
   "metadata": {},
   "source": [
    "### Point-wise feed forward network\n",
    "\n",
    "$$\n",
    "FFN(x) = max(0, xW_1 + b_1)W_2+b_2\n",
    "$$"
   ]
  },
  {
   "cell_type": "code",
   "execution_count": 339,
   "metadata": {},
   "outputs": [],
   "source": [
    "def point_wise_ffn(d_model, dff):\n",
    "    return tf.keras.Sequential([tf.keras.layers.Dense(dff, activation='relu'), # (batch_size, seq_len, dff)\n",
    "                                tf.keras.layers.Dense(d_model)]) # (batch_size, seq_len, d_model)"
   ]
  },
  {
   "cell_type": "code",
   "execution_count": 340,
   "metadata": {},
   "outputs": [
    {
     "data": {
      "text/plain": [
       "TensorShape([64, 50, 512])"
      ]
     },
     "execution_count": 340,
     "metadata": {},
     "output_type": "execute_result"
    }
   ],
   "source": [
    "d_model = 512\n",
    "dff = 2048\n",
    "sample_ffn = point_wise_ffn(d_model, dff)\n",
    "sample_ffn(tf.random.uniform((64, 50, 512))).shape"
   ]
  },
  {
   "cell_type": "markdown",
   "metadata": {},
   "source": [
    "### Encoderblock and Decoderblock\n",
    "\n",
    "<img src=\"img/1.png\" alt=\"Drawing\" style=\"width: 400px;\"/>\n"
   ]
  },
  {
   "cell_type": "markdown",
   "metadata": {},
   "source": [
    "#### `EncoderLayer`\n",
    "`MultiHeadAttention` + `Residual connection` + `Layer Normalization` + `Dropout`"
   ]
  },
  {
   "cell_type": "code",
   "execution_count": 341,
   "metadata": {},
   "outputs": [],
   "source": [
    "class EncoderLayer(tf.keras.layers.Layer):\n",
    "    def __init__(self, d_model, num_heads, dff, dropout_rate = 0.1):\n",
    "        super().__init__()\n",
    "\n",
    "        self.mha = MultiHeadAttention(d_model, num_heads)\n",
    "        self.ffn = point_wise_ffn(d_model, dff)\n",
    "        \n",
    "        self.layernorm1 = tf.keras.layers.LayerNormalization(epsilon=1e-6)\n",
    "        self.layernorm2 = tf.keras.layers.LayerNormalization(epsilon=1e-6)\n",
    "        \n",
    "        self.dropout1 = tf.keras.layers.Dropout(dropout_rate)\n",
    "        self.dropout2 = tf.keras.layers.Dropout(dropout_rate)\n",
    "        \n",
    "    def __call__(self, x, training, mask):\n",
    "        # 不需要看Encoder的attention weight\n",
    "        attention_output, _ = self.mha(v = x, k = x, q = x, mask=mask) # (batch_size, input_seq_len, d_model)\n",
    "        # Inference時不需要使用dropout\n",
    "        attention_output = self.dropout1(attention_output, training=training) # (batch_size, input_seq_len, d_model)\n",
    "        # Residual + Layer Normalization\n",
    "        out1 = self.layernorm1(x + attention_output) # (batch_size, input_seq_len, d_model)\n",
    "\n",
    "        ffn_output = self.ffn(out1) # (batch_size, input_seq_len, d_model)\n",
    "        ffn_output = self.dropout2(ffn_output, training=training) # (batch_size, input_seq_len, d_model)\n",
    "        enc_output = self.layernorm2(out1 + ffn_output) # (batch_size, input_seq_len, d_model)\n",
    "\n",
    "        return enc_output"
   ]
  },
  {
   "cell_type": "code",
   "execution_count": 342,
   "metadata": {},
   "outputs": [
    {
     "data": {
      "text/plain": [
       "TensorShape([64, 50, 512])"
      ]
     },
     "execution_count": 342,
     "metadata": {},
     "output_type": "execute_result"
    }
   ],
   "source": [
    "d_model = 512\n",
    "num_heads = 8\n",
    "dff = 2048\n",
    "dropout_rate = 0.1\n",
    "\n",
    "sample_encooder_layer = EncoderLayer(d_model, num_heads, dff, dropout_rate)\n",
    "\n",
    "x = tf.random.uniform((64, 50, 512))\n",
    "training = False\n",
    "mask = None\n",
    "\n",
    "sample_encooder_layer_output = sample_encooder_layer(x, training, mask)\n",
    "sample_encooder_layer_output.shape"
   ]
  },
  {
   "cell_type": "markdown",
   "metadata": {},
   "source": [
    "#### `DecoderLayer`\n",
    "`MultiHeadAttention(look_ahead_mask, padding_mask)` + `Residual connection` + `Layer Normalization` + `Dropout`"
   ]
  },
  {
   "cell_type": "code",
   "execution_count": 343,
   "metadata": {},
   "outputs": [],
   "source": [
    "class DecoderLayer(tf.keras.layers.Layer):\n",
    "    def __init__(self, d_model, num_heads, dff, dropout_rate = 0.1):\n",
    "        super().__init__()\n",
    "\n",
    "        self.mha1 = MultiHeadAttention(d_model, num_heads)\n",
    "        self.mha2 = MultiHeadAttention(d_model, num_heads)\n",
    "        \n",
    "        self.ffn = point_wise_ffn(d_model, dff)\n",
    "        \n",
    "        self.layernorm1 = tf.keras.layers.LayerNormalization(epsilon=1e-6)\n",
    "        self.layernorm2 = tf.keras.layers.LayerNormalization(epsilon=1e-6)\n",
    "        self.layernorm3 = tf.keras.layers.LayerNormalization(epsilon=1e-6)\n",
    "\n",
    "        self.dropout1 = tf.keras.layers.Dropout(dropout_rate)\n",
    "        self.dropout2 = tf.keras.layers.Dropout(dropout_rate)\n",
    "        self.dropout3 = tf.keras.layers.Dropout(dropout_rate)\n",
    "        \n",
    "    def __call__(self, x, enc_output, training, look_ahead_mask, padding_mask):\n",
    "        \n",
    "        # masked self-attention，後面需要觀察attention weight matrix\n",
    "        # 使用look_ahead_mask，讓decoder輸入只能往前看\n",
    "        attention_output1, masked_attention_weights = self.mha1(v=x, k=x, q=x, mask=look_ahead_mask) # (batch_size, ouptut_seq_len, d_model)\n",
    "        attention_output1 = self.dropout1(attention_output1, training=training) # (batch_size, ouptut_seq_len, d_model)\n",
    "        attention_output1 = self.layernorm1(x + attention_output1) # (batch_size, ouptut_seq_len, d_model)\n",
    "        \n",
    "        # 使用padding_mask，忽略padding的attention weights，不讓任何字去注意到padding的位置\n",
    "        attention_output2, dec_attention_weights = self.mha1(v=enc_output, k=enc_output, q=attention_output1, mask=padding_mask) # (batch_size, ouptut_seq_len, d_model)\n",
    "        attention_output2 = self.dropout2(attention_output2, training=training) # (batch_size, ouptut_seq_len, d_model)\n",
    "        attention_output2 = self.layernorm2(attention_output1 + attention_output2) # (batch_size, ouptut_seq_len, d_model)\n",
    "        \n",
    "        ffn_output = self.ffn(attention_output2)\n",
    "        ffn_output = self.dropout3(ffn_output, training=training)\n",
    "        dec_output = self.layernorm3(attention_output2 + ffn_output)\n",
    "        \n",
    "        return dec_output, masked_attention_weights, dec_attention_weights"
   ]
  },
  {
   "cell_type": "code",
   "execution_count": 344,
   "metadata": {},
   "outputs": [],
   "source": [
    "d_model = 512\n",
    "num_heads = 8\n",
    "dff = 2048\n",
    "dropout_rate = 0.1\n",
    "\n",
    "x = tf.random.uniform((64, 60, 512))\n",
    "training = False\n",
    "look_ahead_mask = None\n",
    "padding_mask = None\n",
    "\n",
    "sample_decoder_layer = DecoderLayer(d_model, num_heads, dff, dropout_rate)\n",
    "sample_dec_output, masked_attention_weights, dec_attention_weights = sample_decoder_layer(x, sample_encooder_layer_output, training, look_ahead_mask, padding_mask)"
   ]
  },
  {
   "cell_type": "code",
   "execution_count": 345,
   "metadata": {},
   "outputs": [
    {
     "name": "stdout",
     "output_type": "stream",
     "text": [
      "dec_output shape:  (64, 60, 512)\n",
      "masked_attention_weights shape:  (64, 8, 60, 60)\n",
      "dec_attention_weights shape:  (64, 8, 60, 50)\n"
     ]
    }
   ],
   "source": [
    "# (batch_size, output_seq_len, d_model)\n",
    "print('dec_output shape: ', sample_dec_output.shape)\n",
    "# (batch_size, num_heads, output_seq_len, output_seq_len)\n",
    "print('masked_attention_weights shape: ', masked_attention_weights.shape)\n",
    "# (batch_size, num_heads, output_seq_len, Input_seq_len)\n",
    "print('dec_attention_weights shape: ', dec_attention_weights.shape)"
   ]
  },
  {
   "cell_type": "markdown",
   "metadata": {},
   "source": [
    "## Encoder\n",
    "\n",
    "建立`Encoder`的pipeline，`Word embedding` + `Positional encoding` + `Encoder Layer * num_layers`"
   ]
  },
  {
   "cell_type": "code",
   "execution_count": 346,
   "metadata": {},
   "outputs": [],
   "source": [
    "class Encoder(tf.keras.layers.Layer):\n",
    "    def __init__(self, num_layers, d_model, num_heads, dff, input_vocab_size, dropout_rate=0.1):\n",
    "        super().__init__()\n",
    "        \n",
    "        self.num_layers = num_layers\n",
    "        self.d_model = d_model\n",
    "        \n",
    "        self.embedding = tf.keras.layers.Embedding(input_vocab_size, self.d_model)\n",
    "        self.pos_encoding = positional_encoding(input_vocab_size, self.d_model)\n",
    "        \n",
    "        self.dropout = tf.keras.layers.Dropout(dropout_rate)\n",
    "        \n",
    "        self.enc_layers = [EncoderLayer(self.d_model, num_heads, dff, dropout_rate) for _ in range(self.num_layers)]\n",
    "    \n",
    "    def __call__(self, x, training, mask):\n",
    "\n",
    "        seq_len = tf.shape(x)[1]\n",
    "        \n",
    "        x = self.embedding(x) # (batch_size, seq_len, d_model)\n",
    "        x *= tf.math.sqrt(tf.cast(d_model, tf.float32))\n",
    "        x += self.pos_encoding[:, :seq_len, :] # (batch_size, seq_len, d_model)\n",
    "        \n",
    "        x = self.dropout(x, training=training) # (batch_size, seq_len, d_model)\n",
    "        \n",
    "        for i in range(self.num_layers):\n",
    "            x = self.enc_layers[i](x, training, mask) # (batch_size, seq_len, d_model)\n",
    "            \n",
    "        return x"
   ]
  },
  {
   "cell_type": "code",
   "execution_count": 347,
   "metadata": {},
   "outputs": [
    {
     "name": "stdout",
     "output_type": "stream",
     "text": [
      "sample_encoder_output shape:  (64, 50, 512)\n"
     ]
    }
   ],
   "source": [
    "num_layers = 2\n",
    "d_model = 512\n",
    "num_heads = 8\n",
    "dff = 2048\n",
    "input_vocab_size = 10000\n",
    "dropout_rate = 0.1\n",
    "\n",
    "sample_encoder = Encoder(num_layers, d_model, num_heads, dff, input_vocab_size, dropout_rate)\n",
    "\n",
    "# 模擬輸入64個句子，每個句子padding成50個字\n",
    "x = tf.random.uniform((64, 50))\n",
    "training = False\n",
    "mask = None\n",
    "\n",
    "sample_encoder_output = sample_encoder(x, training, mask)\n",
    "# (batch_size, input_seq_len, d_model)\n",
    "print('sample_encoder_output shape: ',sample_encoder_output.shape)"
   ]
  },
  {
   "cell_type": "markdown",
   "metadata": {},
   "source": [
    "## Decoder\n",
    "\n",
    "建立`Decoder`的pipeline，`Word embedding` + `Positional encoding` + `Decoder Layer * num_layers`\n",
    "\n",
    "因為要觀察`masked_attention_weights`以及`dec_attention_weight`，所以另外寫一個`attention_weights`儲存"
   ]
  },
  {
   "cell_type": "code",
   "execution_count": 348,
   "metadata": {},
   "outputs": [],
   "source": [
    "class Decoder(tf.keras.layers.Layer):\n",
    "    def __init__(self, num_layers, d_model, num_heads, dff, output_vocab_size, dropout_rate = 0.1):\n",
    "        super().__init__()\n",
    "        \n",
    "        self.num_layers = num_layers\n",
    "        self.d_model = d_model\n",
    "        \n",
    "        self.embedding = tf.keras.layers.Embedding(output_vocab_size, d_model)\n",
    "        self.pos_encoding = positional_encoding(output_vocab_size, d_model)\n",
    "        \n",
    "        self.dec_layers = [DecoderLayer(self.d_model, num_heads, dff, dropout_rate) for _ in range(num_layers)]\n",
    "        \n",
    "        self.dropout = tf.keras.layers.Dropout(dropout_rate)\n",
    "        \n",
    "    def __call__(self, x, enc_output, training, look_ahead_mask, padding_mask):\n",
    "\n",
    "        seq_len = tf.shape(x)[1]\n",
    "        attention_weights = {}\n",
    "        \n",
    "        x = self.embedding(x)\n",
    "        x *= tf.math.sqrt(tf.cast(self.d_model, tf.float32))\n",
    "        x += self.pos_encoding[:, :seq_len, :]\n",
    "        \n",
    "        x = self.dropout(x, training=training)\n",
    "        \n",
    "        for i in range(self.num_layers):\n",
    "            # x.shape: (batch_size, output_seq_len, d_model)\n",
    "            x, masked_attention_weights, dec_attention_weights = self.dec_layers[i](x, enc_output, training, look_ahead_mask, padding_mask)\n",
    "            \n",
    "            # masked attention: (batch_size, num_head, output_seq_len, output_seq_len)\n",
    "            # dec attention: (batch_size, num_head, output_seq_len, input_seq_len)\n",
    "            attention_weights['decoder_layer{}_masked_attention_weights'.format(i + 1)] = masked_attention_weights\n",
    "            attention_weights['decoder_layer{}_dec_attention_weights'.format(i + 1)] = dec_attention_weights\n",
    "            \n",
    "        return x, attention_weights"
   ]
  },
  {
   "cell_type": "code",
   "execution_count": 349,
   "metadata": {},
   "outputs": [
    {
     "name": "stdout",
     "output_type": "stream",
     "text": [
      "sample_decoder_output shape: (64, 20, 512)\n",
      "decoder_layer1_masked_attention_weights  : (64, 8, 20, 20)\n",
      "decoder_layer1_dec_attention_weights  : (64, 8, 20, 50)\n",
      "decoder_layer2_masked_attention_weights  : (64, 8, 20, 20)\n",
      "decoder_layer2_dec_attention_weights  : (64, 8, 20, 50)\n"
     ]
    }
   ],
   "source": [
    "num_layers = 2\n",
    "d_model = 512\n",
    "num_heads = 8\n",
    "dff = 2048\n",
    "output_vocab_size = 10000\n",
    "dropout_rate = 0.1\n",
    "\n",
    "sample_decoder = Decoder(num_layers, d_model, num_heads, dff, output_vocab_size, dropout_rate)\n",
    "\n",
    "# 模擬輸入64個句子，每個句子padding成20個字\n",
    "x = tf.random.uniform((64, 20))\n",
    "training = False\n",
    "look_ahead_mask = None\n",
    "padding_mask = None\n",
    "\n",
    "sample_decoder_output, attention_weights = sample_decoder(x, sample_encoder_output, training, look_ahead_mask, padding_mask)\n",
    "\n",
    "# (batch_size, output_seq_len, d_model)\n",
    "print('sample_decoder_output shape:', sample_decoder_output.shape)\n",
    "\n",
    "# masked attention: (batch_size, num_head, output_seq_len, output_seq_len)\n",
    "# dec attention: (batch_size, num_head, output_seq_len, input_seq_len) \n",
    "# dec attention表示 output_seq對input_seq的注意力\n",
    "for key, value in attention_weights.items():\n",
    "    print(key, ' :', value.shape)"
   ]
  },
  {
   "cell_type": "markdown",
   "metadata": {},
   "source": [
    "## Transformer\n",
    "\n",
    "結合`Encoder`和`Decoder`，接上最後的`Dense`，輸出probability "
   ]
  },
  {
   "cell_type": "code",
   "execution_count": 350,
   "metadata": {},
   "outputs": [],
   "source": [
    "class Transformer(tf.keras.layers.Layer):\n",
    "    def __init__(self, num_layers, d_model, num_heads, dff, input_vocab_size, output_vocab_size, dropout_rate = 0.1):\n",
    "        super().__init__()\n",
    "        \n",
    "        self.encoder = Encoder(num_layers, d_model, num_heads, dff, input_vocab_size, dropout_rate)\n",
    "        self.decoder = Decoder(num_layers, d_model, num_heads, dff, output_vocab_size, dropout_rate)\n",
    "        \n",
    "        self.final_layer = tf.keras.layers.Dense(output_vocab_size)\n",
    "        \n",
    "    def __call__(self, inp, tar, training, enc_padding_mask, look_ahead_mask, dec_padding_mask):\n",
    "\n",
    "        # enc_output.shape: (batch_size, inp_seq_len, d_model)\n",
    "        enc_output = self.encoder(inp, training, mask) \n",
    "\n",
    "        # dec_output.shape: (batch_size, tar_seq_len, d_model)\n",
    "        dec_output, attention_weights = self.decoder(tar, enc_output, training, look_ahead_mask, padding_mask)\n",
    "\n",
    "        # final_output.shape: (batch_szie, tar_seq_len, output_vocab_size )\n",
    "        final_output = self.final_layer(dec_output)\n",
    "\n",
    "        return final_output, attention_weights"
   ]
  },
  {
   "cell_type": "code",
   "execution_count": 351,
   "metadata": {},
   "outputs": [
    {
     "name": "stdout",
     "output_type": "stream",
     "text": [
      "final_output shape: (64, 20, 10000)\n",
      "decoder_layer1_masked_attention_weights  : (64, 8, 20, 20)\n",
      "decoder_layer1_dec_attention_weights  : (64, 8, 20, 50)\n",
      "decoder_layer2_masked_attention_weights  : (64, 8, 20, 20)\n",
      "decoder_layer2_dec_attention_weights  : (64, 8, 20, 50)\n"
     ]
    }
   ],
   "source": [
    "num_layers = 2\n",
    "d_model = 512\n",
    "num_heads = 8\n",
    "dff = 2048\n",
    "input_vocab_size = 10000\n",
    "output_vocab_size = 10000\n",
    "dropout_rate = 0.1\n",
    "\n",
    "\n",
    "sample_transformer = Transformer(num_layers, d_model, num_heads, dff, input_vocab_size, output_vocab_size, dropout_rate)\n",
    "\n",
    "# Input: 模擬輸入64個句子，每個句子padding成50個字\n",
    "# Target: 模擬輸入64個句子，每個句子padding成20個字\n",
    "temp_input = tf.random.uniform((64, 50))\n",
    "temp_target = tf.random.uniform((64, 20))\n",
    "training = False\n",
    "enc_padding_mask = None\n",
    "look_ahead_mask = None\n",
    "dec_padding_mask = None\n",
    "\n",
    "final_output, attention_weights = sample_transformer(temp_input, temp_target, training, enc_padding_mask, look_ahead_mask, dec_padding_mask)\n",
    "\n",
    "print('final_output shape:', final_output.shape)\n",
    "\n",
    "# masked attention: (batch_size, num_head, output_seq_len, output_seq_len)\n",
    "# dec attention: (batch_size, num_head, output_seq_len, input_seq_len) \n",
    "# dec attention表示 output_seq對input_seq的注意力\n",
    "for key, value in attention_weights.items():\n",
    "    print(key, ' :', value.shape)"
   ]
  },
  {
   "cell_type": "markdown",
   "metadata": {},
   "source": [
    "## Optimizer and Customer Learning rate\n",
    "論文使用`Adam`搭配客製化的`Learning rate`，`Learning rate`在warmup_steps前遞增，在warmup_step後遞減。\n",
    "\n",
    "$$\n",
    "lrate = d^{-0.5}_{model}\\times min(step\\_num^{-0.5},\\;step\\_num \\times warmup\\_steps^{-1.5})\n",
    "$$"
   ]
  },
  {
   "cell_type": "code",
   "execution_count": 352,
   "metadata": {},
   "outputs": [],
   "source": [
    "class CustomSchedule(tf.keras.optimizers.schedules.LearningRateSchedule):\n",
    "    def __init__(self, d_model, warmup_steps=4000):\n",
    "        super().__init__()\n",
    "        \n",
    "        self.d_model = tf.cast(d_model, tf.float32) ** -0.5\n",
    "        \n",
    "        self.warmup_steps = warmup_steps\n",
    "        \n",
    "    def __call__(self, step):\n",
    "        \n",
    "        arg1 = step ** -0.5 # step_num^{-0.5}\n",
    "        arg2 = step * (self.warmup_steps ** -1.5) # step_num * warmup_step^{-1.5}\n",
    "        \n",
    "        return self.d_model * tf.math.minimum(arg1, arg2)"
   ]
  },
  {
   "cell_type": "code",
   "execution_count": 353,
   "metadata": {},
   "outputs": [
    {
     "data": {
      "image/png": "[encoded data removed]",
      "text/plain": [
       "<Figure size 432x288 with 1 Axes>"
      ]
     },
     "metadata": {
      "needs_background": "light"
     },
     "output_type": "display_data"
    }
   ],
   "source": [
    "d_models = 512\n",
    "warmup_steps = [3000 ,4000, 5000, 6000]\n",
    "\n",
    "step = tf.range(50000, dtype=tf.float32)\n",
    "\n",
    "for warmup_step in warmup_steps:\n",
    "    temp_learning_rate_schedule = CustomSchedule(d_model, warmup_step)\n",
    "    plt.plot(temp_learning_rate_schedule(step), label = str(warmup_step))\n",
    "    plt.ylabel('Learning Rate')\n",
    "    plt.xlabel('Train Step')\n",
    "    plt.legend(loc='upper right',)\n"
   ]
  },
  {
   "cell_type": "code",
   "execution_count": 354,
   "metadata": {},
   "outputs": [],
   "source": [
    "d_model = 512\n",
    "warmup_steps = 4000\n",
    "learning_rate = CustomSchedule(d_model, warmup_steps)\n",
    "\n",
    "beta_1 = 0.9\n",
    "beta_2 = 0.98\n",
    "epsilon = 1e-9\n",
    "optimizer = tf.keras.optimizers.Adam(learning_rate, beta_1=beta_1, beta_2=beta_2, epsilon=epsilon)"
   ]
  },
  {
   "cell_type": "markdown",
   "metadata": {},
   "source": [
    "### Loss and metrics\n",
    "\n",
    "不需要計算padding位置的loss，所以需要進行mask"
   ]
  },
  {
   "cell_type": "code",
   "execution_count": 355,
   "metadata": {},
   "outputs": [],
   "source": [
    "def loss_function(real, pred):\n",
    "    \n",
    "    mask = tf.math.logical_not(tf.math.equal(real, 0)) # 將sequence中padding(index為0)的部分設為True\n",
    "    \n",
    "    \"\"\"\n",
    "    from_logits: y_pred is expected to be a logits tensor. By default, we assume that y_pred encodes a probability distribution.\n",
    "    reduction: the reduction schedule of output loss vectors. `https://www.tensorflow.org/versions/r2.0/api_docs/python/tf/keras/losses/Reduction`\n",
    "    \"\"\"\n",
    "    loss_object = tf.keras.losses.SparseCategoricalCrossentropy(from_logits=True, reduction='none')\n",
    "    loss_ = loss_object(real, pred)\n",
    "    \n",
    "    mask = tf.cast(mask, dtype=loss_.dtype)\n",
    "    loss_ *= mask # 只計算非padding的loss\n",
    "    \n",
    "    return tf.reduce_mean(loss_)"
   ]
  },
  {
   "cell_type": "code",
   "execution_count": 356,
   "metadata": {},
   "outputs": [
    {
     "name": "stdout",
     "output_type": "stream",
     "text": [
      "Loss:  [0.34115392 0.37734404 1.241154  ]\n"
     ]
    }
   ],
   "source": [
    "# Loss sample\n",
    "cce = tf.keras.losses.SparseCategoricalCrossentropy(from_logits=True, reduction='none')\n",
    "\n",
    "y_true = tf.constant([0, 1, 0], dtype=tf.float32)\n",
    "y_pred = tf.constant([[.95, .05], [.11, .89], [.05, .95]], dtype=tf.float32)\n",
    "\n",
    "loss = cce(y_true, y_pred)\n",
    "print('Loss: ', loss.numpy())  # Loss:  0.6532173"
   ]
  },
  {
   "cell_type": "code",
   "execution_count": 357,
   "metadata": {},
   "outputs": [],
   "source": [
    "# 記錄train_loss與train_accuracy\n",
    "train_loss = tf.keras.metrics.Mean(name = 'train_loss')\n",
    "train_accuracy = tf.keras.metrics.SparseCategoricalAccuracy(name='train_accuracy')"
   ]
  },
  {
   "cell_type": "markdown",
   "metadata": {},
   "source": [
    "### Create masking\n",
    "\n",
    "建立訓練時`Encoder`和`Decoder`需要用到的masking\n",
    "\n",
    "* `Encoder`: \n",
    "  - 第一個Multi-head attention需要Input的`padding_mask`\n",
    "\n",
    "\n",
    "* `Decoder`: \n",
    "  - 第一個Masked Multi-head attention需要Target的`padding_mask` + `look_ahead_mask`\n",
    "  - 第二個Multi-head attention需要Input的`padding_mask`"
   ]
  },
  {
   "cell_type": "code",
   "execution_count": 358,
   "metadata": {},
   "outputs": [],
   "source": [
    "def create_masks(inp, tar):\n",
    "    \n",
    "    # Encoder padding mask\n",
    "    enc_padding_mask = create_paddding_mask(inp)\n",
    "    \n",
    "    # Decoder 2nd Multi-head attention\n",
    "    dec_padding_mask = create_paddding_mask(inp)\n",
    "    \n",
    "    # Decoder 1st Masked Multi-head attention\n",
    "    look_ahead_mask = create_look_ahead_mask(size=tf.shape(tar)[1]) # 建立只能往前看的mask矩陣\n",
    "    dec_target_padding_mask = create_paddding_mask(tar) # padding_mask\n",
    "    combined_mask = tf.maximum(look_ahead_mask, dec_target_padding_mask) # 返回兩者各別最大的值，也就是都是1的位置\n",
    "    \n",
    "    return enc_padding_mask, combined_mask, dec_padding_mask"
   ]
  },
  {
   "cell_type": "markdown",
   "metadata": {},
   "source": [
    "### Set Parameters"
   ]
  },
  {
   "cell_type": "code",
   "execution_count": 500,
   "metadata": {},
   "outputs": [],
   "source": [
    "num_layers = 4\n",
    "d_model = 128\n",
    "dff = 512\n",
    "num_heads = 8\n",
    "input_vocab_size = subword_encoder_en.vocab_size + 2\n",
    "output_vocab_size = subword_encoder_zh.vocab_size + 2\n",
    "dropout_rate = 0.1\n",
    "\n",
    "epochs = 30"
   ]
  },
  {
   "cell_type": "markdown",
   "metadata": {},
   "source": [
    "### Checkpoint"
   ]
  },
  {
   "cell_type": "code",
   "execution_count": 501,
   "metadata": {},
   "outputs": [],
   "source": [
    "transformer = Transformer(num_layers, d_model, num_heads, dff, input_vocab_size, output_vocab_size, dropout_rate)\n",
    "\n",
    "run_id = f'{num_layers}layers_{d_model}d_model_{num_heads}heads_{dff}dff'\n",
    "checkpoint_path = os.path.join(checkpoint_path, run_id)\n",
    "log_dir = os.path.join(log_dir, run_id)\n",
    "\n",
    "ckpt = tf.train.Checkpoint(transformer = transformer, optimizer = optimizer)\n",
    "# 只保留最近3次訓練結果\n",
    "ckpt_manager = tf.train.CheckpointManager(ckpt, checkpoint_path, max_to_keep=3)\n",
    "\n",
    "# 檢查在checkpoint_path上是否有已訓練的checkpoint，有就叫ckpt進行讀取\n",
    "if ckpt_manager.latest_checkpoint:\n",
    "    ckpt.restore(ckpt_manager.latest_checkpoint)\n",
    "    print('Latest checkpoint restored')"
   ]
  },
  {
   "cell_type": "markdown",
   "metadata": {},
   "source": [
    "### Define training step"
   ]
  },
  {
   "cell_type": "code",
   "execution_count": 502,
   "metadata": {},
   "outputs": [],
   "source": [
    "@tf.function # 將自訂函數轉換為 TF計算圖，加速運算\n",
    "def train_step(inp, tar):\n",
    "    \n",
    "    # teacher forcing\n",
    "    tar_inp = tar[:, :-1] # Deocder的target輸入不需要<EOS>\n",
    "    tar_real = tar[:, 1:] # Decdoer的target輸出不需要<BOS>\n",
    "    \n",
    "    enc_padding_mask, combined_mask, dec_padding_mask = create_masks(inp, tar_inp)\n",
    "    \n",
    "    \n",
    "    # 記錄梯度，之後做梯度下降\n",
    "    Training = True\n",
    "    with tf.GradientTape() as tape:\n",
    "        predictions, _ = transformer(inp, tar_inp, Training, enc_padding_mask, look_ahead_mask, dec_padding_mask)\n",
    "        loss = loss_function(tar_real, predictions)\n",
    "    \n",
    "    # 拿出所有可訓練參數的gradient\n",
    "    gradients = tape.gradient(loss, transformer.trainable_variables)\n",
    "    # 呼叫Adam透過gradient更新參數\n",
    "    optimizer.apply_gradients(zip(gradients, transformer.trainable_variables))\n",
    "    \n",
    "    # 輸出loss以及acc，之後準備給Tensorboard記錄\n",
    "    train_loss(loss)\n",
    "    train_accuracy(tar_real, predictions)"
   ]
  },
  {
   "cell_type": "markdown",
   "metadata": {},
   "source": [
    "### Training"
   ]
  },
  {
   "cell_type": "code",
   "execution_count": 503,
   "metadata": {},
   "outputs": [
    {
     "name": "stdout",
     "output_type": "stream",
     "text": [
      "Training on 4num_layers, 128d_model, 8num_heads\n",
      "Epoch 1 Loss 2.9924 Accuracy 0.1757\n",
      "Time taken for 1 epoch: 271.3057725429535 secs\n",
      "\n",
      "Epoch 2 Loss 0.2326 Accuracy 0.6004\n",
      "Time taken for 1 epoch: 54.687644958496094 secs\n",
      "\n",
      "Epoch 3 Loss 0.0329 Accuracy 0.6269\n",
      "Time taken for 1 epoch: 54.53213310241699 secs\n",
      "\n",
      "Epoch 4 Loss 0.0144 Accuracy 0.6290\n",
      "Time taken for 1 epoch: 54.49001932144165 secs\n",
      "\n",
      "Saving checkpoint for epoch 5 at nmt/checkpoints/4layers_128d_model_8heads_512dff/4layers_128d_model_8heads_512dff/ckpt-1\n",
      "Epoch 5 Loss 0.0089 Accuracy 0.6297\n",
      "Time taken for 1 epoch: 54.53795075416565 secs\n",
      "\n",
      "Epoch 6 Loss 0.0062 Accuracy 0.6300\n",
      "Time taken for 1 epoch: 54.3950560092926 secs\n",
      "\n",
      "Epoch 7 Loss 0.0047 Accuracy 0.6302\n",
      "Time taken for 1 epoch: 54.340949296951294 secs\n",
      "\n",
      "Epoch 8 Loss 0.0037 Accuracy 0.6304\n",
      "Time taken for 1 epoch: 54.462674617767334 secs\n",
      "\n",
      "Epoch 9 Loss 0.0029 Accuracy 0.6305\n",
      "Time taken for 1 epoch: 54.315585136413574 secs\n",
      "\n",
      "Saving checkpoint for epoch 10 at nmt/checkpoints/4layers_128d_model_8heads_512dff/4layers_128d_model_8heads_512dff/ckpt-2\n",
      "Epoch 10 Loss 0.0025 Accuracy 0.6306\n",
      "Time taken for 1 epoch: 54.376447677612305 secs\n",
      "\n",
      "Epoch 11 Loss 0.0021 Accuracy 0.6306\n",
      "Time taken for 1 epoch: 54.39373755455017 secs\n",
      "\n",
      "Epoch 12 Loss 0.0019 Accuracy 0.6307\n",
      "Time taken for 1 epoch: 54.21876549720764 secs\n",
      "\n",
      "Epoch 13 Loss 0.0016 Accuracy 0.6307\n",
      "Time taken for 1 epoch: 54.30081605911255 secs\n",
      "\n",
      "Epoch 14 Loss 0.0014 Accuracy 0.6307\n",
      "Time taken for 1 epoch: 54.44264268875122 secs\n",
      "\n",
      "Saving checkpoint for epoch 15 at nmt/checkpoints/4layers_128d_model_8heads_512dff/4layers_128d_model_8heads_512dff/ckpt-3\n",
      "Epoch 15 Loss 0.0013 Accuracy 0.6308\n",
      "Time taken for 1 epoch: 54.45336866378784 secs\n",
      "\n",
      "Epoch 16 Loss 0.0012 Accuracy 0.6308\n",
      "Time taken for 1 epoch: 54.18438196182251 secs\n",
      "\n",
      "Epoch 17 Loss 0.0011 Accuracy 0.6308\n",
      "Time taken for 1 epoch: 54.28080201148987 secs\n",
      "\n",
      "Epoch 18 Loss 0.0010 Accuracy 0.6308\n",
      "Time taken for 1 epoch: 54.36011791229248 secs\n",
      "\n",
      "Epoch 19 Loss 0.0009 Accuracy 0.6308\n",
      "Time taken for 1 epoch: 54.32819652557373 secs\n",
      "\n",
      "Saving checkpoint for epoch 20 at nmt/checkpoints/4layers_128d_model_8heads_512dff/4layers_128d_model_8heads_512dff/ckpt-4\n",
      "Epoch 20 Loss 0.0009 Accuracy 0.6308\n",
      "Time taken for 1 epoch: 54.54664325714111 secs\n",
      "\n",
      "Epoch 21 Loss 0.0007 Accuracy 0.6308\n",
      "Time taken for 1 epoch: 54.3676233291626 secs\n",
      "\n",
      "Epoch 22 Loss 0.0008 Accuracy 0.6308\n",
      "Time taken for 1 epoch: 54.23749756813049 secs\n",
      "\n",
      "Epoch 23 Loss 0.0007 Accuracy 0.6308\n",
      "Time taken for 1 epoch: 54.373069047927856 secs\n",
      "\n",
      "Epoch 24 Loss 0.0007 Accuracy 0.6308\n",
      "Time taken for 1 epoch: 54.40663027763367 secs\n",
      "\n",
      "Saving checkpoint for epoch 25 at nmt/checkpoints/4layers_128d_model_8heads_512dff/4layers_128d_model_8heads_512dff/ckpt-5\n",
      "Epoch 25 Loss 0.0007 Accuracy 0.6308\n",
      "Time taken for 1 epoch: 54.57003355026245 secs\n",
      "\n",
      "Epoch 26 Loss 0.0007 Accuracy 0.6309\n",
      "Time taken for 1 epoch: 54.19031882286072 secs\n",
      "\n",
      "Epoch 27 Loss 0.0006 Accuracy 0.6309\n",
      "Time taken for 1 epoch: 54.24384093284607 secs\n",
      "\n",
      "Epoch 28 Loss 0.0006 Accuracy 0.6309\n",
      "Time taken for 1 epoch: 54.40395188331604 secs\n",
      "\n",
      "Epoch 29 Loss 0.0006 Accuracy 0.6309\n",
      "Time taken for 1 epoch: 54.35959219932556 secs\n",
      "\n",
      "Saving checkpoint for epoch 30 at nmt/checkpoints/4layers_128d_model_8heads_512dff/4layers_128d_model_8heads_512dff/ckpt-6\n",
      "Epoch 30 Loss 0.0005 Accuracy 0.6309\n",
      "Time taken for 1 epoch: 54.411197662353516 secs\n",
      "\n"
     ]
    }
   ],
   "source": [
    "print(f'Training on {num_layers}num_layers, {d_model}d_model, {num_heads}num_heads')\n",
    "\n",
    "# Tensorboard\n",
    "summary_writer = tf.summary.create_file_writer(logdir=log_dir)\n",
    "\n",
    "for epoch in range(epochs):\n",
    "    start = time.time()\n",
    "    \n",
    "    # 每次epoch重置Tensorboard metrics\n",
    "    train_loss.reset_states()\n",
    "    train_accuracy.reset_states()\n",
    "    \n",
    "    # 依序訓練所有batch\n",
    "    for (batch, (inp, tar)) in enumerate(train_dataset):\n",
    "        train_step(inp, tar)\n",
    "    \n",
    "    # 每5個epoch就儲存模型\n",
    "    if (epoch + 1) % 5 == 0:\n",
    "        ckpt_save_path = ckpt_manager.save()\n",
    "        print('Saving checkpoint for epoch {} at {}'.format(epoch+1, ckpt_save_path))\n",
    "        \n",
    "    with summary_writer.as_default():\n",
    "        tf.summary.scalar('train_loss', train_loss.result(), step=epoch+1)\n",
    "        tf.summary.scalar('train_acc', train_accuracy.result(), step=epoch+1)\n",
    "        \n",
    "    print('Epoch {} Loss {:.4f} Accuracy {:.4f}'.format(epoch+1, train_loss.result(), train_accuracy.result()))\n",
    "    print('Time taken for 1 epoch: {} secs\\n'.format(time.time()-start))\n"
   ]
  },
  {
   "cell_type": "markdown",
   "metadata": {},
   "source": [
    "## Evaluate\n",
    "\n",
    "當有新sentence要預測時，sentence一樣要做與encoder輸入的處理: \n",
    "\n",
    "1. Encoder輸入前後需要增加`<BOS>`與`<EOS>`\n",
    "2. Decoder的預測方式是用AutoRegressive，輸入是從`<BOS>`開始預測，第一次預測完將預測結果concat在`<BOS>`後，之後以此類推。\n",
    "\n",
    "`<BOS>` => `<BOS> 我` => `<BOS> 我 好 ` => `<BOS> 我 好 帥`"
   ]
  },
  {
   "cell_type": "code",
   "execution_count": 504,
   "metadata": {},
   "outputs": [],
   "source": [
    "def evaluate(inp_sentence):\n",
    "    \n",
    "    start_token = [subword_encoder_en.vocab_size]\n",
    "    end_token = [subword_encoder_en.vocab_size + 1]\n",
    "    \n",
    "    # Encoder的輸入需要增加<BOS>,<EOS>\n",
    "    inp_sentence = start_token + subword_encoder_en.encode(inp_sentence) + end_token\n",
    "    encoder_input = tf.expand_dims(inp_sentence, axis=0)\n",
    "    \n",
    "    # Decoder的預測方式是autoregressive，即從<BOS>開始預測，每次預測完拿取預測結果最後一個字的概率\n",
    "    decoder_input = [subword_encoder_zh.vocab_size]\n",
    "    output = tf.expand_dims(decoder_input, axis=0)\n",
    "    \n",
    "    # AutoRegressive\n",
    "    Training = False\n",
    "    for i in range(max_length):\n",
    "        # create mask\n",
    "        enc_padding_mask, combined_mask, dec_padding_mask = create_masks(encoder_input, output)\n",
    "        \n",
    "        # prediction.shape == (batch_size, seq_len, vocab_size)\n",
    "        predictions, attention_weights = transformer(encoder_input, output, Training, enc_padding_mask, combined_mask, dec_padding_mask)\n",
    "        \n",
    "        # 拿取最後一個字作為預測結果\n",
    "        prediction = predictions[:, -1:, :]\n",
    "        \n",
    "        prediction_id = tf.cast(tf.argmax(prediction, axis = -1), tf.int32)\n",
    "        \n",
    "        # 預測結果遇到<EOS>就停止回傳output\n",
    "        if prediction_id == (subword_encoder_zh.vocab_size + 1):\n",
    "            return tf.squeeze(output, axis=0), attention_weights\n",
    "        \n",
    "        output = tf.concat([output, prediction_id], axis = -1)\n",
    "        \n",
    "    return tf.squeeze(output, axis=0), attention_weights, predictions"
   ]
  },
  {
   "cell_type": "code",
   "execution_count": 529,
   "metadata": {},
   "outputs": [],
   "source": [
    "sentence = [i for i in inp[4] if i < subword_encoder_en.vocab_size]\n",
    "sentence =  subword_encoder_en.decode(sentence)\n",
    "\n",
    "predicted_seq, attention_weights, predictions = evaluate(sentence)"
   ]
  },
  {
   "cell_type": "code",
   "execution_count": 526,
   "metadata": {},
   "outputs": [],
   "source": [
    "predicted_seq_without_bos_eos = [idx for idx in predicted_seq if idx < subword_encoder_zh.vocab_size]\n",
    "predicted_sentence = subword_encoder_zh.decode(predicted_seq_without_bos_eos)"
   ]
  },
  {
   "cell_type": "markdown",
   "metadata": {},
   "source": [
    "## Visualization\n",
    "\n",
    "畫出`Decoder`中的self-attention權重矩陣，這裏挑最後一層的`dec_attention_weights`作為attention。"
   ]
  },
  {
   "cell_type": "code",
   "execution_count": 463,
   "metadata": {},
   "outputs": [
    {
     "name": "stdout",
     "output_type": "stream",
     "text": [
      "decoder_layer1_masked_attention_weights : (1, 8, 50, 50)\n",
      "decoder_layer1_dec_attention_weights : (1, 8, 50, 29)\n",
      "decoder_layer2_masked_attention_weights : (1, 8, 50, 50)\n",
      "decoder_layer2_dec_attention_weights : (1, 8, 50, 29)\n",
      "decoder_layer3_masked_attention_weights : (1, 8, 50, 50)\n",
      "decoder_layer3_dec_attention_weights : (1, 8, 50, 29)\n",
      "decoder_layer4_masked_attention_weights : (1, 8, 50, 50)\n",
      "decoder_layer4_dec_attention_weights : (1, 8, 50, 29)\n"
     ]
    }
   ],
   "source": [
    "for key,value in attention_weights.items():\n",
    "    print(key,':',value.shape)\n",
    "    \n",
    "layer_name = 'decoder_layer4_dec_attention_weights'"
   ]
  },
  {
   "cell_type": "code",
   "execution_count": 498,
   "metadata": {},
   "outputs": [],
   "source": [
    "def plot_attention_weights(attention_weights, sentence, predicted_seq, layer_name, max_len_tar=None):\n",
    "    \n",
    "    fig = plt.figure(figsize=(17, 14))\n",
    "\n",
    "    sentence = subword_encoder_en.encode(sentence)\n",
    "\n",
    "    # 只顯示中文序列前 `max_len_tar` 個字以避免畫面太過壅擠\n",
    "    if max_len_tar:\n",
    "        predicted_seq = predicted_seq[:max_len_tar]\n",
    "    else:\n",
    "        max_len_tar = len(predicted_seq)\n",
    "\n",
    "    # 將某一個特定 Decoder layer 裡頭的 MHA 1 或 MHA2 的注意權重拿出來並去掉 batch 維度\n",
    "    attention_weights = tf.squeeze(attention_weights[layer_name], axis=0)  \n",
    "    # (num_heads, tar_seq_len, inp_seq_len)\n",
    "\n",
    "    # 只畫其中4個head\n",
    "    attention_weights = attention_weights[4:8,:,:]\n",
    "    \n",
    "    # 將每個 head 的注意權重畫出\n",
    "    for head in range(attention_weights.shape[0]):\n",
    "        ax = fig.add_subplot(2, 2, head + 1)\n",
    "\n",
    "        # [注意]我為了將長度不短的英文子詞顯示在 y 軸，將注意權重做了 transpose\n",
    "        attn_map = np.transpose(attention_weights[head][:max_len_tar, :])\n",
    "        ax.matshow(attn_map, cmap='viridis')  # (inp_seq_len, tar_seq_len)\n",
    "\n",
    "        ax.set_xticks(range(max(max_len_tar, len(predicted_seq))))\n",
    "        ax.set_xlim(-0.5, max_len_tar -1.5)\n",
    "\n",
    "        ax.set_yticks(range(len(sentence) + 2))\n",
    "        ax.set_xticklabels([subword_encoder_zh.decode([i]) for i in predicted_seq \n",
    "                            if i < subword_encoder_zh.vocab_size], fontsize=18)    \n",
    "\n",
    "        ax.set_yticklabels(\n",
    "            ['<start>'] + [subword_encoder_en.decode([i]) for i in sentence] + ['<end>'])\n",
    "\n",
    "        ax.set_xlabel('Head {}'.format(head + 1), fontsize=15)\n",
    "        ax.tick_params(axis=\"x\", labelsize=12)\n",
    "        ax.tick_params(axis=\"y\", labelsize=12)\n",
    "\n",
    "    plt.tight_layout()\n",
    "    plt.show()\n",
    "    plt.close(fig)"
   ]
  },
  {
   "cell_type": "code",
   "execution_count": 499,
   "metadata": {},
   "outputs": [
    {
     "data": {
      "text/plain": [
       "<Figure size 1440x1080 with 0 Axes>"
      ]
     },
     "metadata": {},
     "output_type": "display_data"
    },
    {
     "data": {
      "image/png": "[encoded data removed]",
      "text/plain": [
       "<Figure size 1224x1008 with 4 Axes>"
      ]
     },
     "metadata": {
      "needs_background": "light"
     },
     "output_type": "display_data"
    }
   ],
   "source": [
    "plt.figure(figsize=(20,15))\n",
    "plot_attention_weights(attention_weights, sentence, \n",
    "                       predicted_seq, layer_name, max_len_tar=18)"
   ]
  },
  {
   "cell_type": "code",
   "execution_count": null,
   "metadata": {},
   "outputs": [],
   "source": []
  }
 ],
 "metadata": {
  "kernelspec": {
   "display_name": "Python 3",
   "language": "python",
   "name": "python3"
  },
  "language_info": {
   "codemirror_mode": {
    "name": "ipython",
    "version": 3
   },
   "file_extension": ".py",
   "mimetype": "text/x-python",
   "name": "python",
   "nbconvert_exporter": "python",
   "pygments_lexer": "ipython3",
   "version": "3.7.3"
  }
 },
 "nbformat": 4,
 "nbformat_minor": 2
}
